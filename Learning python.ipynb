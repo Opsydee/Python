{
 "cells": [
  {
   "cell_type": "markdown",
   "id": "77ba82d4-370e-4f7e-a29e-864c4a8dc140",
   "metadata": {},
   "source": [
    "Data science is a multidisciplinary field that involves extracting insights and knowledge from structured and unstructured data using scientific methods, processes, algorithms, and systems. It combines principles from statistics, mathematics, computer science, and domain expertise to analyze and interpret data effectively"
   ]
  },
  {
   "cell_type": "markdown",
   "id": "770b3d94-8eec-4eae-99bc-b28ea5e44ad0",
   "metadata": {},
   "source": [
    "### Data Science process\n",
    "-     collect data \n",
    "-     prepare data\n",
    "-     Train data \n",
    "-     Evaluate the model\n",
    "-     Improve "
   ]
  },
  {
   "cell_type": "markdown",
   "id": "cf0cc0de-7a4d-47d4-89fd-61995b9e3f48",
   "metadata": {},
   "source": [
    "### Data Science Technologies: is a broad range of tools and platforms that facilitate the extraction, analysis, and interpretation of data"
   ]
  },
  {
   "cell_type": "markdown",
   "id": "61fbe355-c537-49b3-84a1-7aaa9cda00de",
   "metadata": {},
   "source": [
    "### Key Data Science Technologies:\n",
    "-      Programming Languages\n",
    "-      Machine Learning and Deep Learning Framework \n",
    "-      Data Visualization Tools \n",
    "-      Data storage and database technologies \n",
    "-      Cloud commputinng "
   ]
  },
  {
   "cell_type": "markdown",
   "id": "3dcbba34-800a-4baf-a352-018737bd735d",
   "metadata": {},
   "source": [
    "### Machine Learning: A subset of artificial intelligence (AI) that focuses on the development of algorithms and statistical models that allow computers to learn from and make prredictions or decision based on data"
   ]
  },
  {
   "cell_type": "markdown",
   "id": "abf8ee04-c023-4d5f-bec3-9797d2be5032",
   "metadata": {},
   "source": [
    "### Types of Machine Learning:\n",
    "-     Supervised Machine Learning:It is trainning your model with a lebeled data and after after that you can now put unlabeled  data and it will help you labled them \n",
    "-     Unsupervised Machine learning \n",
    "-     Semi-supervised learning \n",
    "-     Reinforcement Learning"
   ]
  },
  {
   "cell_type": "markdown",
   "id": "a2ec775f-d9f0-48b8-b98d-41c32c6d58f6",
   "metadata": {},
   "source": [
    "### Skills Required to Become A Data Scientist :\n",
    "-      Statistics\n",
    "-      Programming skills\n",
    "-      Machine learning \n",
    "-      Data Management \n",
    "-      Communication skill"
   ]
  },
  {
   "cell_type": "markdown",
   "id": "8ca73246-d3c7-4108-9e15-cebc163f271d",
   "metadata": {},
   "source": [
    "### How does a Data Scientist wwork?:\n",
    "-      Ask the right questions\n",
    "-      Explore and collect data\n",
    "-      Extract and stardardize data\n",
    "-      clean data\n",
    "-      Handle missing values\n",
    "-      Normalize data\n",
    "-      Analyze data\n",
    "-      Feature Engineering \n",
    "-      Model Building \n",
    "-      Predictive Analytics \n",
    "-      Insights and Reporting \n",
    "-      Data-Driven Decision making \n",
    "-      Collaboration \n",
    "-      Continuous learning and imorovement \n",
    "    "
   ]
  },
  {
   "cell_type": "markdown",
   "id": "def70e3f-fa1f-40b3-b305-92c0d938de11",
   "metadata": {},
   "source": [
    "# INTRODUCTION TO PYTHON PROGRAMMING "
   ]
  },
  {
   "cell_type": "code",
   "execution_count": 11,
   "id": "704886eb-803a-46ed-9751-60349853a859",
   "metadata": {},
   "outputs": [
    {
     "name": "stdout",
     "output_type": "stream",
     "text": [
      "Hello world welcome to python programming\n"
     ]
    }
   ],
   "source": [
    "print(\"Hello world welcome to python programming\") "
   ]
  },
  {
   "cell_type": "code",
   "execution_count": 12,
   "id": "b67c9adf-93d3-42f3-89ec-0dc7535c453b",
   "metadata": {},
   "outputs": [
    {
     "name": "stdout",
     "output_type": "stream",
     "text": [
      "Hello world welcome to python programming    \n"
     ]
    }
   ],
   "source": [
    "print('Hello world welcome to python programming    ')"
   ]
  },
  {
   "cell_type": "code",
   "execution_count": 13,
   "id": "58c51c37-d8df-4f9a-aeb3-7847ed25860c",
   "metadata": {},
   "outputs": [
    {
     "name": "stdout",
     "output_type": "stream",
     "text": [
      "Hello world welcome to python programming\n"
     ]
    }
   ],
   "source": [
    "print(\"\"\"Hello world welcome to python programming\"\"\")"
   ]
  },
  {
   "cell_type": "code",
   "execution_count": 14,
   "id": "95207ae0-240f-42be-84de-460ae7c2084b",
   "metadata": {},
   "outputs": [
    {
     "name": "stdout",
     "output_type": "stream",
     "text": [
      "\"Hello world welcome to python programming\" \n"
     ]
    }
   ],
   "source": [
    "print('\"Hello world welcome to python programming\" ')"
   ]
  },
  {
   "cell_type": "markdown",
   "id": "77729c17-e801-458a-beff-1d6ad26b59ee",
   "metadata": {},
   "source": [
    "# INTRODUCTION TO PYTHON AND ITS USES IN DATA ANALYSIS"
   ]
  },
  {
   "cell_type": "markdown",
   "id": "bc9841da-115d-4c51-9e35-b38028ada10f",
   "metadata": {},
   "source": [
    "Python is a varsitile programming language widely use for data analysis,web development, automation and more. it's readiability and simplicity make it an excellent choice for both beginners and experience developers."
   ]
  },
  {
   "cell_type": "markdown",
   "id": "9727bc86-e62b-4ec2-9a4d-4e0d1bab0a43",
   "metadata": {},
   "source": [
    "In this notebook we'll explore python's basic syntax, data structures and powerful libraries like pandas and seaborn. we'll also learn how to read and write data with pandasusing the walmart sales data from kaggle "
   ]
  },
  {
   "cell_type": "code",
   "execution_count": null,
   "id": "97bddcfe-7a19-4ca0-9777-5a20f20d5051",
   "metadata": {},
   "outputs": [],
   "source": []
  }
 ],
 "metadata": {
  "kernelspec": {
   "display_name": "Python 3 (ipykernel)",
   "language": "python",
   "name": "python3"
  },
  "language_info": {
   "codemirror_mode": {
    "name": "ipython",
    "version": 3
   },
   "file_extension": ".py",
   "mimetype": "text/x-python",
   "name": "python",
   "nbconvert_exporter": "python",
   "pygments_lexer": "ipython3",
   "version": "3.12.7"
  },
  "toc-autonumbering": false
 },
 "nbformat": 4,
 "nbformat_minor": 5
}
