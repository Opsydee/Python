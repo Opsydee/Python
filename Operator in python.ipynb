{
 "cells": [
  {
   "cell_type": "markdown",
   "id": "d80d1e08-9ff2-41dc-8d45-87fc65e63c0a",
   "metadata": {},
   "source": [
    "### Common used python operators are grouped tin the following \n",
    "-     Arithemetic Operators : +, -, *, /,\n",
    "-     Assignment operators : =\n",
    "-     Comparison operators: ==,!=, <,>,  <=\n",
    "-     Logical operators: and, or, not\n",
    "-     Identity operators:is, is nottours"
   ]
  },
  {
   "cell_type": "markdown",
   "id": "c21b7286-1dbd-4f60-a027-f43100c70ad3",
   "metadata": {},
   "source": [
    "# Assignment Operator "
   ]
  },
  {
   "cell_type": "code",
   "execution_count": 7,
   "id": "a9d94858-d458-4510-ab8f-1b68a57245de",
   "metadata": {},
   "outputs": [
    {
     "data": {
      "text/plain": [
       "10.5"
      ]
     },
     "execution_count": 7,
     "metadata": {},
     "output_type": "execute_result"
    }
   ],
   "source": [
    "63/6"
   ]
  },
  {
   "cell_type": "code",
   "execution_count": 10,
   "id": "60158f11-eb57-4af3-b276-2431f5e6a01a",
   "metadata": {},
   "outputs": [
    {
     "data": {
      "text/plain": [
       "10"
      ]
     },
     "execution_count": 10,
     "metadata": {},
     "output_type": "execute_result"
    }
   ],
   "source": [
    "63//6"
   ]
  },
  {
   "cell_type": "code",
   "execution_count": 13,
   "id": "a173604a-8643-413c-846d-ca3479558b1a",
   "metadata": {},
   "outputs": [
    {
     "data": {
      "text/plain": [
       "3"
      ]
     },
     "execution_count": 13,
     "metadata": {},
     "output_type": "execute_result"
    }
   ],
   "source": [
    "63%6\n"
   ]
  },
  {
   "cell_type": "code",
   "execution_count": 16,
   "id": "eb251de2-16db-43b7-a28f-46ac52cab526",
   "metadata": {},
   "outputs": [
    {
     "data": {
      "text/plain": [
       "25"
      ]
     },
     "execution_count": 16,
     "metadata": {},
     "output_type": "execute_result"
    }
   ],
   "source": [
    "5*5"
   ]
  },
  {
   "cell_type": "code",
   "execution_count": 19,
   "id": "8bbd7876-ffa2-4a6d-af80-0a9cca477557",
   "metadata": {},
   "outputs": [
    {
     "data": {
      "text/plain": [
       "3125"
      ]
     },
     "execution_count": 19,
     "metadata": {},
     "output_type": "execute_result"
    }
   ],
   "source": [
    "5**5"
   ]
  },
  {
   "cell_type": "code",
   "execution_count": 22,
   "id": "525af54e-f980-4aa0-8c8b-86cd1d034a79",
   "metadata": {},
   "outputs": [],
   "source": [
    "PRO=5**7"
   ]
  },
  {
   "cell_type": "code",
   "execution_count": 25,
   "id": "75ec1e22-1a22-4b1e-bb78-7e7dc6689b08",
   "metadata": {},
   "outputs": [
    {
     "name": "stdout",
     "output_type": "stream",
     "text": [
      "78125\n"
     ]
    }
   ],
   "source": [
    "print(PRO)"
   ]
  },
  {
   "cell_type": "code",
   "execution_count": 28,
   "id": "bf6c3b7d-497f-4c7f-abe3-3e406272c9f5",
   "metadata": {},
   "outputs": [
    {
     "data": {
      "text/plain": [
       "False"
      ]
     },
     "execution_count": 28,
     "metadata": {},
     "output_type": "execute_result"
    }
   ],
   "source": [
    "6>8"
   ]
  },
  {
   "cell_type": "code",
   "execution_count": 31,
   "id": "00aad6b2-2e3a-488c-971e-40639adb196a",
   "metadata": {},
   "outputs": [
    {
     "data": {
      "text/plain": [
       "True"
      ]
     },
     "execution_count": 31,
     "metadata": {},
     "output_type": "execute_result"
    }
   ],
   "source": [
    "6<8"
   ]
  },
  {
   "cell_type": "code",
   "execution_count": 34,
   "id": "a215df0c-fcd5-4a6f-a561-00d6e01c8655",
   "metadata": {},
   "outputs": [
    {
     "data": {
      "text/plain": [
       "True"
      ]
     },
     "execution_count": 34,
     "metadata": {},
     "output_type": "execute_result"
    }
   ],
   "source": [
    "5<=9"
   ]
  },
  {
   "cell_type": "code",
   "execution_count": 37,
   "id": "072bade5-6558-47d1-9eab-02eb53b028a8",
   "metadata": {},
   "outputs": [
    {
     "name": "stdout",
     "output_type": "stream",
     "text": [
      "3125\n"
     ]
    }
   ],
   "source": [
    "PRO=5**5\n",
    "print(PRO)"
   ]
  },
  {
   "cell_type": "code",
   "execution_count": 40,
   "id": "71b6c56a-040d-46dc-ab60-53ed6c0d4709",
   "metadata": {},
   "outputs": [
    {
     "name": "stdout",
     "output_type": "stream",
     "text": [
      "2097152\n"
     ]
    }
   ],
   "source": [
    "FBI=8**7\n",
    "print(FBI)"
   ]
  },
  {
   "cell_type": "code",
   "execution_count": 43,
   "id": "d9ecd9e5-f9d3-4bd7-b616-9a9a65aaebb9",
   "metadata": {},
   "outputs": [
    {
     "name": "stdout",
     "output_type": "stream",
     "text": [
      "47\n"
     ]
    }
   ],
   "source": [
    "P = 8*5+7\n",
    "print(P)"
   ]
  },
  {
   "cell_type": "code",
   "execution_count": 46,
   "id": "594be304-902c-480c-b7e1-2413f7ff0a0b",
   "metadata": {},
   "outputs": [],
   "source": [
    "a=5"
   ]
  },
  {
   "cell_type": "code",
   "execution_count": 49,
   "id": "2209c0a0-5644-4268-9ff7-69b21cc68d86",
   "metadata": {},
   "outputs": [],
   "source": [
    "b = 20"
   ]
  },
  {
   "cell_type": "code",
   "execution_count": 52,
   "id": "786c6f50-e37a-417a-8b89-983dff1615f1",
   "metadata": {},
   "outputs": [],
   "source": [
    "c=b"
   ]
  },
  {
   "cell_type": "code",
   "execution_count": 55,
   "id": "a69125fb-b3d9-425a-857c-f6cabb50cab7",
   "metadata": {},
   "outputs": [
    {
     "data": {
      "text/plain": [
       "20"
      ]
     },
     "execution_count": 55,
     "metadata": {},
     "output_type": "execute_result"
    }
   ],
   "source": [
    "c"
   ]
  },
  {
   "cell_type": "code",
   "execution_count": null,
   "id": "f750a39e-591f-4269-a432-0f789382c08c",
   "metadata": {},
   "outputs": [],
   "source": []
  },
  {
   "cell_type": "markdown",
   "id": "72daee96-2ed6-4b94-b5f2-9fb750b09c6c",
   "metadata": {},
   "source": [
    "# Comparison Operator"
   ]
  },
  {
   "cell_type": "code",
   "execution_count": 60,
   "id": "deec4a1d-e611-4594-8733-2006263c837e",
   "metadata": {},
   "outputs": [
    {
     "data": {
      "text/plain": [
       "True"
      ]
     },
     "execution_count": 60,
     "metadata": {},
     "output_type": "execute_result"
    }
   ],
   "source": [
    "5 == 5"
   ]
  },
  {
   "cell_type": "code",
   "execution_count": 63,
   "id": "93b92a34-a558-4823-b216-5f03438cf95d",
   "metadata": {},
   "outputs": [
    {
     "data": {
      "text/plain": [
       "True"
      ]
     },
     "execution_count": 63,
     "metadata": {},
     "output_type": "execute_result"
    }
   ],
   "source": [
    "6>3"
   ]
  },
  {
   "cell_type": "code",
   "execution_count": 66,
   "id": "1ba08dee-c8e0-4339-aeb0-648c911c6b0f",
   "metadata": {},
   "outputs": [
    {
     "data": {
      "text/plain": [
       "False"
      ]
     },
     "execution_count": 66,
     "metadata": {},
     "output_type": "execute_result"
    }
   ],
   "source": [
    "5!=5"
   ]
  },
  {
   "cell_type": "code",
   "execution_count": 69,
   "id": "b28be481-2842-4e08-bb8a-2ec4fdd2a1cc",
   "metadata": {},
   "outputs": [
    {
     "data": {
      "text/plain": [
       "True"
      ]
     },
     "execution_count": 69,
     "metadata": {},
     "output_type": "execute_result"
    }
   ],
   "source": [
    "555555!= 55555"
   ]
  },
  {
   "cell_type": "code",
   "execution_count": null,
   "id": "63c4e576-2687-4728-b5be-83b9479b9813",
   "metadata": {},
   "outputs": [],
   "source": []
  },
  {
   "cell_type": "markdown",
   "id": "b5eb48b1-108c-4a00-97b9-3bd987d04e3e",
   "metadata": {},
   "source": [
    "# Logical Operator "
   ]
  },
  {
   "cell_type": "code",
   "execution_count": 74,
   "id": "d2e64e28-ff81-43b0-a66b-2a5e5e77c00b",
   "metadata": {},
   "outputs": [
    {
     "data": {
      "text/plain": [
       "False"
      ]
     },
     "execution_count": 74,
     "metadata": {},
     "output_type": "execute_result"
    }
   ],
   "source": [
    "2>5 and 2<12"
   ]
  },
  {
   "cell_type": "code",
   "execution_count": 77,
   "id": "8e496660-bc6b-4d85-b96a-89df5d26e211",
   "metadata": {},
   "outputs": [
    {
     "data": {
      "text/plain": [
       "True"
      ]
     },
     "execution_count": 77,
     "metadata": {},
     "output_type": "execute_result"
    }
   ],
   "source": [
    "not (2>5 and 2<12)"
   ]
  },
  {
   "cell_type": "code",
   "execution_count": 80,
   "id": "767376bc-6380-4505-8b58-eb670dc0ffcf",
   "metadata": {},
   "outputs": [
    {
     "data": {
      "text/plain": [
       "True"
      ]
     },
     "execution_count": 80,
     "metadata": {},
     "output_type": "execute_result"
    }
   ],
   "source": [
    "2>5 or 3<30"
   ]
  },
  {
   "cell_type": "code",
   "execution_count": 83,
   "id": "ae614415-de2f-4113-9ec5-bb400aeaf452",
   "metadata": {},
   "outputs": [
    {
     "data": {
      "text/plain": [
       "False"
      ]
     },
     "execution_count": 83,
     "metadata": {},
     "output_type": "execute_result"
    }
   ],
   "source": [
    "not (2>5 or 3<30)"
   ]
  },
  {
   "cell_type": "code",
   "execution_count": null,
   "id": "32dbab71-2de0-4d6e-a017-f996f473a726",
   "metadata": {},
   "outputs": [],
   "source": []
  }
 ],
 "metadata": {
  "kernelspec": {
   "display_name": "Python 3 (ipykernel)",
   "language": "python",
   "name": "python3"
  },
  "language_info": {
   "codemirror_mode": {
    "name": "ipython",
    "version": 3
   },
   "file_extension": ".py",
   "mimetype": "text/x-python",
   "name": "python",
   "nbconvert_exporter": "python",
   "pygments_lexer": "ipython3",
   "version": "3.12.7"
  }
 },
 "nbformat": 4,
 "nbformat_minor": 5
}
