{
 "cells": [
  {
   "cell_type": "markdown",
   "id": "0167c589-368e-40e6-a21b-b4b04e639fef",
   "metadata": {
    "editable": true,
    "slideshow": {
     "slide_type": ""
    },
    "tags": []
   },
   "source": [
    "### Question 1:\n",
    "\n",
    "### Write a program that takes a student’s score as input and assigns a grade based on the following criteria:\n",
    "\n",
    "### Score ≥ 90: Grade A\n",
    "\n",
    "### 80 ≤ Score < 90: Grade B\n",
    "\n",
    "### 70 ≤ Score < 80: Grade C\n",
    "\n",
    "### 60 ≤ Score < 70: Grade D\n",
    "\n",
    "### Score < 60: Grade F"
   ]
  },
  {
   "cell_type": "code",
   "execution_count": 4,
   "id": "5fc8024a-b93d-406d-b361-1b7184b5bcae",
   "metadata": {},
   "outputs": [
    {
     "name": "stdin",
     "output_type": "stream",
     "text": [
      "Please enter the score: \n",
      " 70\n"
     ]
    },
    {
     "name": "stdout",
     "output_type": "stream",
     "text": [
      "Grade C\n"
     ]
    }
   ],
   "source": [
    " student_score = int(input(\"Please enter the score: \\n\"))  # Assigning the score\n",
    "\n",
    "# Validating the score falls within the range\n",
    "if student_score >= 90:\n",
    "    print('Grade A')\n",
    "elif student_score >= 80:\n",
    "    print('Grade B')\n",
    "elif student_score >= 70:\n",
    "    print('Grade C')\n",
    "elif student_score >= 60:\n",
    "    print('Grade D')\n",
    "else:\n",
    "    print('Grade F')\n"
   ]
  },
  {
   "cell_type": "markdown",
   "id": "65df3583-70eb-47b7-a078-4f43d7847ed9",
   "metadata": {},
   "source": [
    "Question 2 : \n",
    "\n",
    "Create a program that asks the user to enter the price of 5 items. Store the prices in a list.\n",
    "\n",
    "Use a for loop to calculate the total. If the total exceeds $100, apply a 10% discount."
   ]
  },
  {
   "cell_type": "code",
   "execution_count": 10,
   "id": "6a07c363-9073-4e50-86bc-ac4b31a27bf4",
   "metadata": {},
   "outputs": [
    {
     "name": "stdin",
     "output_type": "stream",
     "text": [
      "Enter the price of items:  50\n",
      "Enter the price of items:  60\n",
      "Enter the price of items:  90\n",
      "Enter the price of items:  78\n",
      "Enter the price of items:  100\n"
     ]
    },
    {
     "name": "stdout",
     "output_type": "stream",
     "text": [
      "Total: 340.2\n"
     ]
    }
   ],
   "source": [
    "# Create an empty list to store the prices\n",
    "user = []\n",
    "\n",
    "# Ask the user to enter the prices of 5 items\n",
    "i = 0\n",
    "while i < 5:  # Input validation loop\n",
    "    price = float(input(\"Enter the price of items: \"))  # Fixing the input prompt\n",
    "    user.append(price)\n",
    "    i += 1  # Increment the counter\n",
    "\n",
    "total = 0\n",
    "for price in user:\n",
    "    total += price  # Summing the prices correctly\n",
    "\n",
    "if total > 100:\n",
    "    total *= 0.9  # Apply a 10% discount if total exceeds 100\n",
    "\n",
    "print(f\"Total: {total}\")  # Correct the print statement syntax"
   ]
  },
  {
   "cell_type": "code",
   "execution_count": 12,
   "id": "e2a9446d-4bc9-464e-8aa9-20260f2a042d",
   "metadata": {},
   "outputs": [
    {
     "name": "stdin",
     "output_type": "stream",
     "text": [
      "Enter the price of item:  100\n",
      "Enter the price of item:  120\n",
      "Enter the price of item:  150\n",
      "Enter the price of item:  170\n",
      "Enter the price of item:  180\n"
     ]
    },
    {
     "name": "stdout",
     "output_type": "stream",
     "text": [
      "Total: 648.0\n"
     ]
    }
   ],
   "source": [
    "# Using for loop\n",
    "\n",
    "# Create an empty list to store the prices\n",
    "user = []\n",
    "\n",
    "# Ask the user to enter the prices of 5 items using a for loop\n",
    "for i in range(5):  # Loop 5 times\n",
    "    price = float(input(\"Enter the price of item: \"))  # Prompt for input\n",
    "    user.append(price)  # Add the price to the list\n",
    "\n",
    "# Calculate the total\n",
    "total = 0\n",
    "for price in user:  # Iterate through the list\n",
    "    total += price  # Add each price to the total\n",
    "\n",
    "# Apply a discount if the total exceeds 100\n",
    "if total > 100:\n",
    "    total *= 0.9  # Apply a 10% discount\n",
    "\n",
    "# Display the total\n",
    "print(f\"Total: {total}\")  "
   ]
  },
  {
   "cell_type": "markdown",
   "id": "67d2ea91-6eb6-4bbb-88bd-75d3fbbeb5ec",
   "metadata": {},
   "source": [
    "### Question 3:\n",
    "\n",
    "Create a user authentication system using a dictionary where usernames are the keys and passwords are the values.\n",
    "\n",
    "Ask the user to enter their username and password, and print \"Login Successful!\" if they match, otherwise print \"Invalid credentials.\"\n"
   ]
  },
  {
   "cell_type": "code",
   "execution_count": 15,
   "id": "a9d53a13-1c48-495c-8e79-5677df2903ca",
   "metadata": {},
   "outputs": [
    {
     "name": "stdin",
     "output_type": "stream",
     "text": [
      "Enter your username:  opeyemi\n",
      "Enter your password:  Jesuslove2024\n"
     ]
    },
    {
     "name": "stdout",
     "output_type": "stream",
     "text": [
      "Login Successful!\n"
     ]
    }
   ],
   "source": [
    "# Create a dictionary that has usernames as keys and passwords as values\n",
    "user = {\n",
    "    \"opeyemi\": \"Jesuslove2024\",\n",
    "    \"greatlove\": \"Jesusbaby123\",\n",
    "    \"tolulope\": \"Jesusbrother345\"\n",
    "}\n",
    "\n",
    "# Ask the user to enter their username\n",
    "Username = input(\"Enter your username: \")\n",
    "\n",
    "# Ask the user to enter their password\n",
    "Password = input(\"Enter your password: \")\n",
    "\n",
    "# Check if the entered username exists and if the password matches\n",
    "if Username in user and user[Username] == Password:\n",
    "    print(\"Login Successful!\")\n",
    "else:\n",
    "    print(\"Invalid credentials.\")\n"
   ]
  },
  {
   "cell_type": "markdown",
   "id": "cfd745ec-2cbb-4690-a1fd-655d56b650d9",
   "metadata": {},
   "source": [
    "### Question 4:\n",
    "\n",
    " Create a list of numbers. Use a for loop and if-else statements to check if each number is even or odd. \n",
    "\n",
    " Store even numbers in one list and odd numbers in another, and then print both lists."
   ]
  },
  {
   "cell_type": "code",
   "execution_count": 18,
   "id": "585788ee-2ff9-4154-a1eb-9784f427c250",
   "metadata": {},
   "outputs": [
    {
     "name": "stdout",
     "output_type": "stream",
     "text": [
      "Even numbers: [20, 48, 70, 78, 100]\n",
      "Odd numbers: [25, 27, 65, 91]\n"
     ]
    }
   ],
   "source": [
    "# Create a list of numbers\n",
    "numbers  = [20, 25, 27, 48, 65, 70, 78, 91, 100]\n",
    "\n",
    "# Lists to store even and odd numbers\n",
    "even_numbers = []\n",
    "odd_numbers = []\n",
    "\n",
    "# Loop through the list of numbers\n",
    "for list1 in numbers:\n",
    "    # Check if the number is even\n",
    "    if list1 % 2 == 0:\n",
    "        even_numbers.append(list1)  # Add to even list\n",
    "    else:\n",
    "        odd_numbers.append(list1)   # Add to odd list\n",
    "\n",
    "# Print both lists\n",
    "print(\"Even numbers:\", even_numbers)\n",
    "print(\"Odd numbers:\", odd_numbers)\n"
   ]
  },
  {
   "cell_type": "markdown",
   "id": "9ab4a30c-d54f-4a52-b26a-63834d26c58e",
   "metadata": {},
   "source": [
    "### Question 5:\n",
    "Create a list of movies with their ratings, where each movie is stored as a tuple containing the movie title and its rating out of 10. \n",
    "\n",
    "For example: `[(\"Inception\", 7.5), (\"Fast&Furious\", 8), ...]`.\n",
    "\n",
    "Then, ask the user to enter a minimum rating. Display all movies that have a rating equal to or higher than the user’s input."
   ]
  },
  {
   "cell_type": "code",
   "execution_count": 21,
   "id": "5a96d88f-b259-4be3-a3ac-4cce39e554c9",
   "metadata": {},
   "outputs": [
    {
     "name": "stdin",
     "output_type": "stream",
     "text": [
      "Enter a film rating (0-10):  9\n"
     ]
    },
    {
     "name": "stdout",
     "output_type": "stream",
     "text": [
      "\n",
      "Movies with a rating of 9.0 or higher:\n",
      "The Demons cast out - 9.6\n"
     ]
    }
   ],
   "source": [
    "# List of movies with their ratings (title, rating)\n",
    "movies = [(\"Inception\", 7.5),\n",
    "          (\"Fast & Furious\", 8), \n",
    "          (\"The Demons cast out\", 9.6), \n",
    "          (\"Angular\", 8.5), \n",
    "          (\"International victories\", 6), \n",
    "          (\"Titanic\", 7.9)]\n",
    "\n",
    "# Ask the user to input a minimum rating\n",
    "film_rating = float(input(\"Enter a film rating (0-10): \"))\n",
    "\n",
    "# Display movies that have a rating equal to or higher than the user's input\n",
    "print(f\"\\nMovies with a rating of {film_rating} or higher:\")\n",
    "for movie, rating in movies:\n",
    "    if rating >= film_rating:\n",
    "        print(f\"{movie} - {rating}\")\n"
   ]
  },
  {
   "cell_type": "markdown",
   "id": "468b4ffb-2240-46d5-8fa4-2d2de3433eda",
   "metadata": {},
   "source": [
    "Question 6:\n",
    "Write a Python program that interacts with the user by asking for their name, age, and whether they have an ID. The program should:\n",
    "  1. Ask the user for their name and greet them.\n",
    "  2. Ask the user for their age.\n",
    "      - If the user is under 18, display a message saying they are not of age.\n",
    "      - If the user is 18 or older, ask them if they have an ID.\n",
    "        \n",
    "            - If the user has an ID (answering \"yes\"), welcome them.\n",
    "        \n",
    "            - If the user does not have an ID (answering anything else), inform them that they need an ID.\n",
    "Write the code for this interaction and explain how it works step by step\n",
    "\n"
   ]
  },
  {
   "cell_type": "code",
   "execution_count": 24,
   "id": "920c758a-c30d-431f-aead-b613c77f8a9b",
   "metadata": {},
   "outputs": [
    {
     "name": "stdin",
     "output_type": "stream",
     "text": [
      "Please enter your name:  Opeyemi\n"
     ]
    },
    {
     "name": "stdout",
     "output_type": "stream",
     "text": [
      "Hello, Opeyemi!\n"
     ]
    },
    {
     "name": "stdin",
     "output_type": "stream",
     "text": [
      "Please enter your age:  85\n",
      "Do you have an ID? (yes/no):  yes\n"
     ]
    },
    {
     "name": "stdout",
     "output_type": "stream",
     "text": [
      "Welcome!\n"
     ]
    }
   ],
   "source": [
    "# Step 1: Ask the user for their name and greet them\n",
    "name = input(\"Please enter your name: \")\n",
    "print(f\"Hello, {name}!\")\n",
    "\n",
    "# Step 2: Ask the user for their age\n",
    "age = input(\"Please enter your age: \")\n",
    "\n",
    "# Step 3: Check if the age input is an integer\n",
    "if age.isdigit():\n",
    "    age = int(age)\n",
    "    # Step 4: Determine if the user is under 18\n",
    "    if age < 18:\n",
    "        print(\"You are not of age.\")\n",
    "    else:\n",
    "        # Step 5: Ask if the user has an ID\n",
    "        has_id = input(\"Do you have an ID? (yes/no): \").strip().lower()\n",
    "        # Step 6: Respond based on the user's answer\n",
    "        if has_id == \"yes\":\n",
    "            print(\"Welcome!\")\n",
    "        else:\n",
    "            print(\"You need an ID.\")\n",
    "else:\n",
    "    print(\"Invalid age input. Please enter a numeric value.\")\n"
   ]
  },
  {
   "cell_type": "markdown",
   "id": "2603bff3-32ad-4c01-9aa4-e3eaefbc61f9",
   "metadata": {},
   "source": [
    "Question 7:\n",
    "Create a Python program that asks the user to enter their year of birth and then:\n",
    "\n",
    "- Calculate their age in years based on the current year.\n",
    "- Calculate their age in days \n",
    "- If the user enters a year greater than 2024, display an error message indicating the input is invalid.\n"
   ]
  },
  {
   "cell_type": "code",
   "execution_count": 30,
   "id": "1902e076-da13-4c75-ba28-4dbb55c05ab8",
   "metadata": {},
   "outputs": [
    {
     "name": "stdin",
     "output_type": "stream",
     "text": [
      "Please enter your year of birth (e.g., 1990):  1986\n"
     ]
    },
    {
     "name": "stdout",
     "output_type": "stream",
     "text": [
      "You are 39 years old.\n",
      "You are approximately 14257 days old.\n"
     ]
    }
   ],
   "source": [
    "from datetime import date\n",
    "\n",
    "# Step 1: Ask the user to enter their year of birth\n",
    "birth_year = input(\"Please enter your year of birth (e.g., 1990): \")\n",
    "\n",
    "# Step 2: Validate the input\n",
    "if not birth_year.isdigit():\n",
    "    print(\"Invalid input. Please enter a numeric year.\")\n",
    "else:\n",
    "    birth_year2 = int(birth_year)\n",
    "    current_year = date.today().year\n",
    "\n",
    "    # Step 3: Check if the birth year is greater than 2024\n",
    "    if birth_year2 > 2024:\n",
    "        print(\"Error: The year of birth cannot be greater than 2024.\")\n",
    "    else:\n",
    "        # Step 4: Calculate age in years\n",
    "        age_years = current_year - birth_year2\n",
    "\n",
    "        # Step 5: Calculate age in days\n",
    "        # Assuming the person was born on January 1st of the birth year for simplicity\n",
    "        birth_date = date(birth_year2, 1, 1)\n",
    "        today = date.today()\n",
    "        age_days = (today - birth_date).days\n",
    "\n",
    "        # Step 6: Display the results\n",
    "        print(f\"You are {age_years} years old.\")\n",
    "        print(f\"You are approximately {age_days} days old.\")\n"
   ]
  },
  {
   "cell_type": "markdown",
   "id": "80ff3502-83ea-40e1-840d-7ce4087a74db",
   "metadata": {},
   "source": [
    "Question 8:\n",
    "\n",
    "Create a Python program that calculates the Body Mass Index (BMI) using a function. The program should do the following:\n",
    "\n",
    "- Define a function named calculate_bmi that takes two parameters: weight (in kilograms) and height (in meters).\n",
    "\n",
    "    The function should return the calculated BMI using the formula: \n",
    "\n",
    "    BMI = weight/(height)^2   \n",
    "\n",
    "    note:  weight should be in kg and height in meters - e.g 70/(1.7**2)\n",
    "\n",
    "- Ask the user to enter their weight and height using the input function.\n",
    "\n",
    "- Call the calculate_bmi function with the user inputs and display the BMI result.\n",
    "\n",
    "- Provide a brief interpretation of the BMI value using the info below;\n",
    "\n",
    " if bmi < 18.5  = \"Underweight\", 18.5 <= bmi < 24.9: \"Normal weight\", 25 <= bmi < 29.9: \"Overweight\", the rest:  \"Obesity\"\n"
   ]
  },
  {
   "cell_type": "code",
   "execution_count": 40,
   "id": "ed6eed60-5682-4a2d-90e5-a3a75f77d250",
   "metadata": {},
   "outputs": [
    {
     "name": "stdin",
     "output_type": "stream",
     "text": [
      "Enter your weight in kilograms:  60\n",
      "Enter your height in meters:  170\n"
     ]
    },
    {
     "name": "stdout",
     "output_type": "stream",
     "text": [
      "Your BMI is: 0.00\n",
      "Interpretation: Underweight\n"
     ]
    }
   ],
   "source": [
    "def calculate_bmi(weight, height):\n",
    "    \"\"\"\n",
    "    Calculate the Body Mass Index (BMI).\n",
    "\n",
    "    Parameters:\n",
    "    weight (float): Weight in kilograms.\n",
    "    height (float): Height in meters.\n",
    "\n",
    "    Returns:\n",
    "    float: Calculated BMI.\n",
    "    \"\"\"\n",
    "    return weight / (height ** 2)\n",
    "\n",
    "# Prompt the user to enter their weight and height\n",
    "try:\n",
    "    weight = float(input(\"Enter your weight in kilograms: \"))\n",
    "    height = float(input(\"Enter your height in meters: \"))\n",
    "\n",
    "    # Ensure height is not zero to avoid division by zero error\n",
    "    if height <= 0:\n",
    "        print(\"Height must be greater than zero.\")\n",
    "    else:\n",
    "        # Calculate BMI\n",
    "        bmi = calculate_bmi(weight, height)\n",
    "\n",
    "        # Display the BMI result\n",
    "        print(f\"Your BMI is: {bmi:.2f}\")\n",
    "\n",
    "        # Interpret the BMI value\n",
    "        if bmi < 18.5:\n",
    "            print(\"Interpretation: Underweight\")\n",
    "        elif 18.5 <= bmi < 24.9:\n",
    "            print(\"Interpretation: Normal weight\")\n",
    "        elif 25 <= bmi < 29.9:\n",
    "            print(\"Interpretation: Overweight\")\n",
    "        else:\n",
    "            print(\"Interpretation: Obesity\")\n",
    "except ValueError:\n",
    "    print(\"Invalid input. Please enter numeric values for weight and height.\")\n"
   ]
  },
  {
   "cell_type": "code",
   "execution_count": null,
   "id": "b98b6265-80bb-4c04-8acc-353ed846afa6",
   "metadata": {},
   "outputs": [],
   "source": []
  }
 ],
 "metadata": {
  "kernelspec": {
   "display_name": "Python 3 (ipykernel)",
   "language": "python",
   "name": "python3"
  },
  "language_info": {
   "codemirror_mode": {
    "name": "ipython",
    "version": 3
   },
   "file_extension": ".py",
   "mimetype": "text/x-python",
   "name": "python",
   "nbconvert_exporter": "python",
   "pygments_lexer": "ipython3",
   "version": "3.12.7"
  }
 },
 "nbformat": 4,
 "nbformat_minor": 5
}
