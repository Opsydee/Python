{
 "cells": [
  {
   "cell_type": "code",
   "execution_count": 160,
   "id": "f740c09f-625b-4fbc-98ce-d22d3577543f",
   "metadata": {},
   "outputs": [
    {
     "name": "stdin",
     "output_type": "stream",
     "text": [
      "first:  Opeyemi \n",
      "second:  Emmanuel\n"
     ]
    },
    {
     "name": "stdout",
     "output_type": "stream",
     "text": [
      "Opeyemi Emmanuel\n"
     ]
    }
   ],
   "source": [
    "first= input (\"first: \")\n",
    "second = input (\"second: \")\n",
    "sum = first + second\n",
    "print(sum)"
   ]
  },
  {
   "cell_type": "code",
   "execution_count": 162,
   "id": "d951212a-18f4-4385-8d60-2475edba354d",
   "metadata": {},
   "outputs": [
    {
     "name": "stdin",
     "output_type": "stream",
     "text": [
      "fname Opeyemi\n",
      "srname Ojedokun\n",
      "age 43\n"
     ]
    },
    {
     "name": "stdout",
     "output_type": "stream",
     "text": [
      "HiOpeyemiOjedokunyou are43years old\n"
     ]
    }
   ],
   "source": [
    "firstname = input(\"fname\")\n",
    "surname = input(\"srname\")\n",
    "age = input(\"age\")\n",
    "print(\"Hi\" + firstname + surname + \"you are\" + age + \"years old\")  "
   ]
  },
  {
   "cell_type": "code",
   "execution_count": 164,
   "id": "48b671fb-d5cd-4cac-828f-ff46a5af9080",
   "metadata": {},
   "outputs": [
    {
     "name": "stdin",
     "output_type": "stream",
     "text": [
      "what is your birth_year:  1986\n"
     ]
    },
    {
     "name": "stdout",
     "output_type": "stream",
     "text": [
      "38\n"
     ]
    }
   ],
   "source": [
    "Birth_year = input(\"what is your birth_year: \")\n",
    "age = 2024 - int(Birth_year)\n",
    "print(age)"
   ]
  },
  {
   "cell_type": "code",
   "execution_count": 166,
   "id": "38300ad0-78db-4870-8f8e-87d60525b0a1",
   "metadata": {},
   "outputs": [
    {
     "name": "stdin",
     "output_type": "stream",
     "text": [
      "what is your birth year 1986\n"
     ]
    },
    {
     "name": "stdout",
     "output_type": "stream",
     "text": [
      "Your age is: 38\n"
     ]
    }
   ],
   "source": [
    "Birth_year = input(\"what is your birth year\")\n",
    "if Birth_year.isdigit():  # check if the input is a digit \n",
    "    age = 2024 -int(Birth_year) # calculate the age\n",
    "    print(\"Your age is: \" + str(age))  #cconvert age to string for concatination \n",
    "else:\n",
    "    print(\"please enter a valid number.\")  #Handle non-digit input"
   ]
  },
  {
   "cell_type": "code",
   "execution_count": 168,
   "id": "67a2457f-2a04-46fd-8765-9bfc5c882167",
   "metadata": {},
   "outputs": [
    {
     "name": "stdin",
     "output_type": "stream",
     "text": [
      "what is your birth year 1986\n"
     ]
    },
    {
     "name": "stdout",
     "output_type": "stream",
     "text": [
      "Your age is: 38\n"
     ]
    }
   ],
   "source": [
    "Birth_year = input(\"what is your birth year\")\n",
    "\n",
    "#let us check if the input is a valid number \n",
    "if Birth_year.isdigit():\n",
    "    birth_year_int = int(Birth_year)  #convert the input for an integer \n",
    "    \n",
    "    #check if the birth year is greater than 2024\n",
    "    if birth_year_int <= 2024:\n",
    "        age = 2024 -  birth_year_int   #calcuate the age \n",
    "        print (\"Your age is: \" + str(age))  #convert age to string for concatenation\n",
    "    else :\n",
    "        print (\"Wrong entry: Birth year cannot be greater than 2024\")\n",
    "else:\n",
    "    print(\"please enter a valid number: \")\n",
    "    \n",
    "    "
   ]
  },
  {
   "cell_type": "code",
   "execution_count": 1,
   "id": "bcd3441f-0c8f-4837-ae98-1df523c7c209",
   "metadata": {},
   "outputs": [
    {
     "name": "stdin",
     "output_type": "stream",
     "text": [
      "weight:  48\n",
      "(k)g or (l)bs|  k\n"
     ]
    },
    {
     "name": "stdout",
     "output_type": "stream",
     "text": [
      "invald unit. please enter 'k' for kilogrames or 'L' for pounds\n"
     ]
    }
   ],
   "source": [
    "# Get the weight from the user as a float\n",
    "weight =float(input(\"weight: \"))\n",
    "\n",
    "# Get the unit type from the user (either \"k\" for kiligrames or \"l\" for pounds)\n",
    "unit = input (\"(k)g or (l)bs| \").strip().upper()\n",
    "\n",
    "# conert and print the weight based on the unit\n",
    "if unit == \"k\":\n",
    "    converted = weight / 0.453592\n",
    "    print(\"weight in this :\" * str(converted))\n",
    "elif unit == \"L\":\n",
    "    converted = weight / 0.453592\n",
    "    print (\"weight in kgs: \" * str(converted))\n",
    "else:\n",
    "    print(\"invald unit. please enter 'k' for kilogrames or 'L' for pounds\")\n"
   ]
  },
  {
   "cell_type": "code",
   "execution_count": 175,
   "id": "0b6616e1-2a09-4b2c-83d0-5eb61528651d",
   "metadata": {},
   "outputs": [
    {
     "name": "stdin",
     "output_type": "stream",
     "text": [
      "firstname:  Opeyemi\n",
      "surname:  Ojedokun\n",
      "which faculty are you:  Computer\n",
      "which Deptyment are you:  Computer science\n",
      "which course are you studying:  Computer science \n",
      "what is your birth_year:  1986\n"
     ]
    },
    {
     "name": "stdout",
     "output_type": "stream",
     "text": [
      "Hi my name is Opeyemi and surname is Ojedokun i was in the faculty of Computer in the deptment of Computer science studying the course of Computer science , and i am 38 year old\n"
     ]
    }
   ],
   "source": [
    "fname = input(\"firstname: \")\n",
    "sname = input(\"surname: \")\n",
    "faculty = input(\"which faculty are you: \")\n",
    "Dept = input (\"which Deptyment are you: \")\n",
    "course = input (\"which course are you studying: \")\n",
    "birth_year = input (\"what is your birth_year: \")\n",
    "age = 2024 - int(birth_year)\n",
    "print (f\"Hi my name is {fname} and surname is {sname} i was in the faculty of {faculty} in the deptment of {Dept} studying the course of {course}, and i am {age} year old\")   \n",
    "                    "
   ]
  },
  {
   "cell_type": "code",
   "execution_count": 177,
   "id": "170c220b-32f9-492e-9520-217a4eab08e8",
   "metadata": {},
   "outputs": [
    {
     "name": "stdin",
     "output_type": "stream",
     "text": [
      "firstname:  Opeyemi\n",
      "surname:  Ojedokun\n",
      "which course are you taking:  Computer science\n",
      "what is your birth_year:  1986\n"
     ]
    },
    {
     "name": "stdout",
     "output_type": "stream",
     "text": [
      "HI my name is Opeyemi, and my surname is Ojedokun,my course is Computer science, i am 38 year old\n"
     ]
    }
   ],
   "source": [
    "fname = input(\"firstname: \")\n",
    "sname = input(\"surname: \")\n",
    "course = input(\"which course are you taking: \")\n",
    "birth_year = input(\"what is your birth_year: \")\n",
    "age = 2024 - int(birth_year)\n",
    "print(f\"HI my name is {fname}, and my surname is {sname},my course is {course}, i am {age} year old\")"
   ]
  },
  {
   "cell_type": "code",
   "execution_count": 33,
   "id": "fec9e656-21cf-4357-92f8-93679d8cd522",
   "metadata": {},
   "outputs": [
    {
     "name": "stdin",
     "output_type": "stream",
     "text": [
      "Firstname:  Opeyemi\n",
      "surname:  Ojedokun \n",
      "which school did you attended:  LAUTECH\n",
      "which course are you taking:  Computer\n",
      "what is your birthyear:   1986\n"
     ]
    },
    {
     "name": "stdout",
     "output_type": "stream",
     "text": [
      "Hi my name is Opeyemi and surname is Ojedokun ,my course is Computer, i am 38 year old\n"
     ]
    }
   ],
   "source": [
    "fname = input (\"Firstname: \")\n",
    "sname = input (\"surname: \")\n",
    "school = input (\"which school did you attended: \")\n",
    "course = input (\"which course are you taking: \")\n",
    "birthyear = input(\"what is your birthyear:  \")\n",
    "age = 2024 - int(birthyear)\n",
    "\n",
    "print(f\"Hi my name is {fname} and surname is {sname},my course is {course}, i am {age} year old\")"
   ]
  }
 ],
 "metadata": {
  "kernelspec": {
   "display_name": "Python 3 (ipykernel)",
   "language": "python",
   "name": "python3"
  },
  "language_info": {
   "codemirror_mode": {
    "name": "ipython",
    "version": 3
   },
   "file_extension": ".py",
   "mimetype": "text/x-python",
   "name": "python",
   "nbconvert_exporter": "python",
   "pygments_lexer": "ipython3",
   "version": "3.12.7"
  }
 },
 "nbformat": 4,
 "nbformat_minor": 5
}
