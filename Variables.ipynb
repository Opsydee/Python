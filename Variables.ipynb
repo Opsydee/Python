{
 "cells": [
  {
   "cell_type": "markdown",
   "id": "aa81e79b-4707-4248-b809-940ca585ad0f",
   "metadata": {},
   "source": [
    "## Creating Variables "
   ]
  },
  {
   "cell_type": "markdown",
   "id": "8eea93dd-bb83-4d40-acb2-9312b4b9f5e9",
   "metadata": {},
   "source": [
    "Variables in python can have short name (like x and y) or more descriptive name (age,car_name,total_volume)"
   ]
  },
  {
   "cell_type": "markdown",
   "id": "9e23f184-6664-4647-aee2-70e8e17aebad",
   "metadata": {},
   "source": [
    "##### Rules for python variables "
   ]
  },
  {
   "cell_type": "markdown",
   "id": "ae698a65-cf96-4ae3-999c-f4a108a6eae2",
   "metadata": {},
   "source": [
    ". Must start with a letter or underscore(_)\n",
    "\n",
    ". cannot start with a number \n",
    "\n",
    ". can only contain letters, numbers and underscore (A-Z, 0-9,_)\n",
    "\n",
    ". Are case sensitive (age, Age and AGE are different variable)\n",
    "\n",
    ". cannot be python keyword"
   ]
  },
  {
   "cell_type": "markdown",
   "id": "0b94d2a9-6c09-4bca-9e38-71579642de98",
   "metadata": {},
   "source": [
    "## Techniques to make Multiple Variable names readable \n",
    "-   Camel case : Each word except the first starts with a capital letter myVariableName = \"John\"\n",
    "-   Pascal Case : Each word starts witha capital letter MyVariableName= \"John\"\n",
    "-   Sanke Case : Each word is seperated by an underscore character my_variable_name =\"John\" "
   ]
  },
  {
   "cell_type": "code",
   "execution_count": 12,
   "id": "54bdbccc-945a-48f3-b013-efb0cda754bc",
   "metadata": {},
   "outputs": [
    {
     "name": "stdout",
     "output_type": "stream",
     "text": [
      "5\n",
      "John\n"
     ]
    }
   ],
   "source": [
    "x = 5\n",
    "y = \"John\"\n",
    "print(x)\n",
    "print(y)"
   ]
  },
  {
   "cell_type": "code",
   "execution_count": 15,
   "id": "0802a73c-5668-4af1-9f64-53e04999cab9",
   "metadata": {},
   "outputs": [
    {
     "name": "stdout",
     "output_type": "stream",
     "text": [
      "Python is awesome\n"
     ]
    }
   ],
   "source": [
    "x = \"Python\"\n",
    "y = \"is\"\n",
    "z = \"awesome\"\n",
    "print(x, y, z)"
   ]
  },
  {
   "cell_type": "code",
   "execution_count": 18,
   "id": "873d8823-af66-48e3-834b-e3f25fa0f2d4",
   "metadata": {},
   "outputs": [
    {
     "name": "stdout",
     "output_type": "stream",
     "text": [
      "Orange\n",
      "Orange\n",
      "Orange\n"
     ]
    }
   ],
   "source": [
    "x = y = z = \"Orange\"\n",
    "print(x)\n",
    "print(y)\n",
    "print(z)"
   ]
  },
  {
   "cell_type": "markdown",
   "id": "8d9bd5fc-272a-44a9-a460-de57973bf846",
   "metadata": {},
   "source": [
    "### Must common data types in python \n",
    "\n",
    " 1. Text type : string \n",
    " 2. Numeric Types : int, float, complex\n",
    " 3. sequence Types : list, tuple, range\n",
    " 4. Mapping  Types : dict\n",
    " 5. Set types : set, frozenset\n",
    " 6. Boolean Types: Bool\n",
    " 7. Binary Types : bytes, bytearray, memoryview\n",
    " 8. None type : NoneTypeType"
   ]
  },
  {
   "cell_type": "markdown",
   "id": "bea71050-8b0b-4bf1-bc9f-385cec858157",
   "metadata": {},
   "source": [
    "text -> string str \"Tope\"\n",
    "Integers -> int 55,\n",
    "float -> decimal 6.88, -8.99, 66.45,\n",
    "boolean -> true, false, yes, no\n"
   ]
  },
  {
   "cell_type": "code",
   "execution_count": 25,
   "id": "7cd97611-93dc-4de4-9d59-d3d06b185880",
   "metadata": {},
   "outputs": [
    {
     "name": "stdout",
     "output_type": "stream",
     "text": [
      "<class 'int'>\n",
      "<class 'str'>\n"
     ]
    }
   ],
   "source": [
    "x = 5\n",
    "y = \"John\"\n",
    "print (type(x))\n",
    "print (type(y))"
   ]
  },
  {
   "cell_type": "code",
   "execution_count": 29,
   "id": "79a29596-258a-4964-9483-c9c78a25fd35",
   "metadata": {},
   "outputs": [],
   "source": [
    "x = 5555"
   ]
  },
  {
   "cell_type": "code",
   "execution_count": 32,
   "id": "cbec2b86-3c92-4ee7-a636-aa1fbd982533",
   "metadata": {},
   "outputs": [
    {
     "data": {
      "text/plain": [
       "int"
      ]
     },
     "execution_count": 32,
     "metadata": {},
     "output_type": "execute_result"
    }
   ],
   "source": [
    "type(x)"
   ]
  },
  {
   "cell_type": "code",
   "execution_count": 35,
   "id": "6f03bd97-d2d8-496a-bf60-5eafcca47685",
   "metadata": {},
   "outputs": [],
   "source": [
    "x = 56.56"
   ]
  },
  {
   "cell_type": "code",
   "execution_count": 38,
   "id": "596c703c-bae7-4147-9227-2af6ac1265eb",
   "metadata": {},
   "outputs": [
    {
     "data": {
      "text/plain": [
       "float"
      ]
     },
     "execution_count": 38,
     "metadata": {},
     "output_type": "execute_result"
    }
   ],
   "source": [
    "type(x)"
   ]
  },
  {
   "cell_type": "code",
   "execution_count": 41,
   "id": "99d50e5e-249c-48c9-8d65-7ba0c5e8b4a7",
   "metadata": {},
   "outputs": [],
   "source": [
    "t = \"rotrt\""
   ]
  },
  {
   "cell_type": "code",
   "execution_count": 101,
   "id": "30ef4840-45f3-4c17-a690-46240cdc099d",
   "metadata": {},
   "outputs": [
    {
     "data": {
      "text/plain": [
       "str"
      ]
     },
     "execution_count": 101,
     "metadata": {},
     "output_type": "execute_result"
    }
   ],
   "source": [
    "type(t)"
   ]
  },
  {
   "cell_type": "code",
   "execution_count": 45,
   "id": "9ca7c4d9-9b56-43d6-8c6d-501d8e27a772",
   "metadata": {},
   "outputs": [],
   "source": [
    "cast= str(x)"
   ]
  },
  {
   "cell_type": "code",
   "execution_count": 48,
   "id": "f690f61a-265e-4c32-80b7-b63e7ed9dd12",
   "metadata": {},
   "outputs": [
    {
     "data": {
      "text/plain": [
       "'56.56'"
      ]
     },
     "execution_count": 48,
     "metadata": {},
     "output_type": "execute_result"
    }
   ],
   "source": [
    "cast"
   ]
  },
  {
   "cell_type": "code",
   "execution_count": 51,
   "id": "e73447b6-cd91-4abc-a1fd-ab2cfa0b8ec0",
   "metadata": {},
   "outputs": [
    {
     "data": {
      "text/plain": [
       "str"
      ]
     },
     "execution_count": 51,
     "metadata": {},
     "output_type": "execute_result"
    }
   ],
   "source": [
    "type(cast)"
   ]
  },
  {
   "cell_type": "code",
   "execution_count": 54,
   "id": "507d39d9-5dbf-4378-a6f2-3767472de187",
   "metadata": {},
   "outputs": [
    {
     "name": "stdout",
     "output_type": "stream",
     "text": [
      "56.56\n"
     ]
    }
   ],
   "source": [
    "y =float(cast)\n",
    "print(y)"
   ]
  },
  {
   "cell_type": "code",
   "execution_count": 57,
   "id": "d99b34d2-ade1-4068-9410-2bda1fbfcaa0",
   "metadata": {},
   "outputs": [],
   "source": [
    "z=567"
   ]
  },
  {
   "cell_type": "code",
   "execution_count": 60,
   "id": "3afe20ff-a19d-4396-b123-d527b4da48f0",
   "metadata": {},
   "outputs": [
    {
     "data": {
      "text/plain": [
       "int"
      ]
     },
     "execution_count": 60,
     "metadata": {},
     "output_type": "execute_result"
    }
   ],
   "source": [
    "type(z)"
   ]
  },
  {
   "cell_type": "code",
   "execution_count": 63,
   "id": "79b7d6d4-61da-4028-8468-3cf4c9d1d74e",
   "metadata": {},
   "outputs": [],
   "source": [
    "cost=str(z)"
   ]
  },
  {
   "cell_type": "code",
   "execution_count": 67,
   "id": "c87461e5-d964-4eef-98ff-96924b98146c",
   "metadata": {},
   "outputs": [
    {
     "data": {
      "text/plain": [
       "'567'"
      ]
     },
     "execution_count": 67,
     "metadata": {},
     "output_type": "execute_result"
    }
   ],
   "source": [
    "cost"
   ]
  },
  {
   "cell_type": "code",
   "execution_count": 75,
   "id": "71a8dd27-b263-490a-abf8-41b89e5b0dca",
   "metadata": {},
   "outputs": [],
   "source": [
    "w = int(87)"
   ]
  },
  {
   "cell_type": "code",
   "execution_count": 77,
   "id": "bcea522b-7f29-4db1-a375-13fd48ff3d8d",
   "metadata": {},
   "outputs": [
    {
     "data": {
      "text/plain": [
       "87"
      ]
     },
     "execution_count": 77,
     "metadata": {},
     "output_type": "execute_result"
    }
   ],
   "source": [
    "w"
   ]
  },
  {
   "cell_type": "code",
   "execution_count": 80,
   "id": "41d41f2b-1f52-4170-ab95-11e40e8d0815",
   "metadata": {},
   "outputs": [
    {
     "name": "stdout",
     "output_type": "stream",
     "text": [
      "567\n"
     ]
    }
   ],
   "source": [
    "w=int(567)\n",
    "print(w)"
   ]
  },
  {
   "cell_type": "code",
   "execution_count": 83,
   "id": "7bbadb17-e86e-44d8-985a-7d524b9f7855",
   "metadata": {},
   "outputs": [],
   "source": [
    " # casting \n",
    "# If you want to specify the data type of a variable, this can be done with casting\n",
    "\n",
    "x = str (3) # x will be \"3\"\n",
    "y = int (3) # y will be 3\n",
    "z = float (3) # z will be 3.0"
   ]
  },
  {
   "cell_type": "code",
   "execution_count": 86,
   "id": "4c1d8a3c-c5cd-440e-8a05-f9890cb851f4",
   "metadata": {},
   "outputs": [
    {
     "name": "stdout",
     "output_type": "stream",
     "text": [
      "3\n",
      "3\n",
      "3.0\n"
     ]
    }
   ],
   "source": [
    "print (x)\n",
    "print(y)\n",
    "print (z)"
   ]
  },
  {
   "cell_type": "markdown",
   "id": "97174c7f-c21f-426c-93cd-a814ecc97257",
   "metadata": {},
   "source": [
    "Note A date is not a data type of its own in python, but we can import module name datatime to word wwith dates "
   ]
  },
  {
   "cell_type": "code",
   "execution_count": 93,
   "id": "8c68a9e2-a9b2-4884-b3bd-727f81bd159c",
   "metadata": {},
   "outputs": [
    {
     "name": "stdout",
     "output_type": "stream",
     "text": [
      "2025-01-15 16:01:30.857713 2020-05-17 00:00:00\n"
     ]
    }
   ],
   "source": [
    "# Import the datatime module and display the current date: \n",
    "import datetime as dt\n",
    "x=dt. datetime.now()\n",
    "y = dt.datetime(2020, 5, 17)\n",
    "print(x,y)"
   ]
  },
  {
   "cell_type": "code",
   "execution_count": 96,
   "id": "69892e81-7d59-4f6f-8036-9cc254385a2c",
   "metadata": {
    "tags": []
   },
   "outputs": [],
   "source": [
    "x = dt.datetime.now()"
   ]
  },
  {
   "cell_type": "code",
   "execution_count": 99,
   "id": "7b754c76-7fe0-4ecc-a558-0cfe9f0ddaae",
   "metadata": {},
   "outputs": [
    {
     "data": {
      "text/plain": [
       "datetime.datetime(2025, 1, 15, 16, 1, 45, 118046)"
      ]
     },
     "execution_count": 99,
     "metadata": {},
     "output_type": "execute_result"
    }
   ],
   "source": [
    "x"
   ]
  },
  {
   "cell_type": "code",
   "execution_count": 102,
   "id": "8692196c-b193-4ae0-843b-e2eb1d89b31f",
   "metadata": {},
   "outputs": [
    {
     "data": {
      "text/plain": [
       "datetime.datetime(1, 1, 1, 0, 0)"
      ]
     },
     "execution_count": 102,
     "metadata": {},
     "output_type": "execute_result"
    }
   ],
   "source": [
    "x.min"
   ]
  },
  {
   "cell_type": "code",
   "execution_count": 105,
   "id": "a8c4cec6-d0cc-44a3-abc5-d160ff3d0f9b",
   "metadata": {},
   "outputs": [],
   "source": [
    "z = dt.datetime.now()"
   ]
  },
  {
   "cell_type": "code",
   "execution_count": 134,
   "id": "b18c71e3-7832-4ce6-872a-563ea3ca884a",
   "metadata": {},
   "outputs": [
    {
     "data": {
      "text/plain": [
       "datetime.datetime(2025, 1, 6, 9, 55, 31, 414265)"
      ]
     },
     "execution_count": 134,
     "metadata": {},
     "output_type": "execute_result"
    }
   ],
   "source": [
    "z"
   ]
  },
  {
   "cell_type": "code",
   "execution_count": 135,
   "id": "bc8ad941-9414-4f3c-9541-00fb4d45c3b5",
   "metadata": {},
   "outputs": [
    {
     "name": "stdout",
     "output_type": "stream",
     "text": [
      "Mon\n"
     ]
    }
   ],
   "source": [
    "print(x.strftime(\"%a\"))"
   ]
  },
  {
   "cell_type": "raw",
   "id": "6edf3ed4-08c6-41a5-827e-80663abde177",
   "metadata": {},
   "source": [
    "***** strftime() function \n",
    "The datetime object has a method for formatting date object into readable strings.\n",
    "\n",
    "The method is railed strftime(), and takes parameter, format, to specify the format of the returned strings \n",
    "\n",
    "\"Directive\"               \"Description\"                 \"Example\"\n",
    "%a                    Weekday,short version               Wed\n",
    "%A                    Weekday, full version               Wednessday\n",
    "%w            Weekday as a number 0-6, 0 is Sunday         3\n",
    "%d                     Day of month 01-31                  31\n",
    "%b                   Month name, short version            Dec\n",
    "%B                   Month name, full version             December\n",
    "%m                   Month as a number 01-12               12\n",
    "%y             Year, short version, without century        18\n",
    "%Y                   Year, full version                    2018\n",
    "%H                      Hour 00-23                          17\n",
    "%I                      Hour 00-12                          05\n",
    "%p                      AM/PM                               PM\n",
    "%M                     Minute 00-59                         41\n",
    "%S                     Second 00-59                         08\n",
    "%f                Microsecond 000000-999999                548513\n",
    "%z                    UTC offset                           +0100\n",
    "%Z                    Timezone                             CST\n",
    "%j               Day number of year 001-366                365\n",
    "%U  Week number of year, Sunday as the first day of week, 00-53    52\n",
    "%W Week number of year, Monday as the first day of week, 00-53     52\n",
    "%c           Local version of date and time          Mon Dec 31 17:41:00 2018\n",
    "%C                    Century                             20\n",
    "%x           Local version of date                        12/31/18\n",
    "%X             Local version of time                      17:41:00\n",
    "%%                A % character                            %\n",
    "%G               ISO 8601 year                           2018\n",
    "%u              ISO 8601 weekday (1-7)                    1\n",
    "%V             ISO 8601 weeknumber (01-53)                01"
   ]
  },
  {
   "cell_type": "code",
   "execution_count": 142,
   "id": "dd4cdd13-3096-4e2b-bb8e-b6d4476cd35b",
   "metadata": {},
   "outputs": [
    {
     "name": "stdout",
     "output_type": "stream",
     "text": [
      "Monday\n"
     ]
    }
   ],
   "source": [
    "print(x.strftime(\"%A\"))"
   ]
  },
  {
   "cell_type": "code",
   "execution_count": 143,
   "id": "06dbe2ac-d0cf-4c70-af79-2c64739e6d28",
   "metadata": {},
   "outputs": [
    {
     "name": "stdout",
     "output_type": "stream",
     "text": [
      "Jan\n"
     ]
    }
   ],
   "source": [
    "print(x.strftime(\"%b\"))"
   ]
  },
  {
   "cell_type": "code",
   "execution_count": 144,
   "id": "f4af5b75-3638-4f49-8dd4-8718c4ea4ea1",
   "metadata": {},
   "outputs": [
    {
     "name": "stdout",
     "output_type": "stream",
     "text": [
      "2025\n"
     ]
    }
   ],
   "source": [
    "print(x.strftime(\"%Y\"))"
   ]
  },
  {
   "cell_type": "markdown",
   "id": "dc57c19a-b3c9-4756-93ea-cd9af8e14f33",
   "metadata": {},
   "source": [
    "### Index\n",
    "An index refers to the position number of an item within a sequence or collection \n",
    "Zero Based Indexing - the first element in a sequence is a index 0, the second element at index 1 and so on.\n",
    "Negtive indexing -where -1 refers to the last element, -2 refers to the second last element, and so on."
   ]
  },
  {
   "cell_type": "code",
   "execution_count": 116,
   "id": "ad229f45-d57f-4281-8691-7ea2982aea28",
   "metadata": {},
   "outputs": [],
   "source": [
    "num =[10,20,30,40,50]\n",
    "\n",
    "#Examle list\n",
    "numbers = [10, 20, 30 ,40 ,50,60]\n",
    "\n",
    "\n"
   ]
  },
  {
   "cell_type": "code",
   "execution_count": 150,
   "id": "05b1ccd3-e050-43ec-8d55-7e74a9ad0384",
   "metadata": {},
   "outputs": [
    {
     "name": "stdout",
     "output_type": "stream",
     "text": [
      "10\n",
      "60\n"
     ]
    }
   ],
   "source": [
    "# Accessing elements using positive and negative indices \n",
    "print(numbers[0])\n",
    "print (numbers[-1])\n"
   ]
  },
  {
   "cell_type": "code",
   "execution_count": 152,
   "id": "3d601a28-ceba-4275-ba54-ca891e84ee83",
   "metadata": {},
   "outputs": [
    {
     "name": "stdout",
     "output_type": "stream",
     "text": [
      "[20, 30, 40]\n"
     ]
    }
   ],
   "source": [
    "# selecting one list\n",
    "print(numbers[1:4])"
   ]
  },
  {
   "cell_type": "code",
   "execution_count": null,
   "id": "f156062b-f028-4357-aa3d-9cb64105d126",
   "metadata": {},
   "outputs": [],
   "source": []
  }
 ],
 "metadata": {
  "kernelspec": {
   "display_name": "Python 3 (ipykernel)",
   "language": "python",
   "name": "python3"
  },
  "language_info": {
   "codemirror_mode": {
    "name": "ipython",
    "version": 3
   },
   "file_extension": ".py",
   "mimetype": "text/x-python",
   "name": "python",
   "nbconvert_exporter": "python",
   "pygments_lexer": "ipython3",
   "version": "3.12.7"
  }
 },
 "nbformat": 4,
 "nbformat_minor": 5
}
