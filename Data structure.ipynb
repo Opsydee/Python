{
 "cells": [
  {
   "cell_type": "markdown",
   "id": "331ec5d2-96b5-4730-ad57-5121bdd696b2",
   "metadata": {},
   "source": [
    "### Python for Beginner"
   ]
  },
  {
   "cell_type": "markdown",
   "id": "3743db47-1ce6-4982-bb61-1d9464dbd33a",
   "metadata": {},
   "source": [
    "### Python Data Structures\n",
    "Lists : A list is an ordered collection of items.list are mutable,meaning you can change their contents."
   ]
  },
  {
   "cell_type": "markdown",
   "id": "885faa13-9070-4e03-8ee3-984a4159b7b0",
   "metadata": {},
   "source": [
    "Ordered - index\n",
    "Mutable - change"
   ]
  },
  {
   "cell_type": "code",
   "execution_count": 3,
   "id": "3c02467d-ab10-49a6-a384-0ff2263d5e94",
   "metadata": {},
   "outputs": [
    {
     "name": "stdout",
     "output_type": "stream",
     "text": [
      "['Orange', 'Bananna', 'Apple', 'pawpaw']\n"
     ]
    }
   ],
   "source": [
    "fruits = [\"Orange\",\"Bananna\",\"Apple\"]\n",
    "fruits.append(\"pawpaw\")\n",
    "print(fruits)"
   ]
  },
  {
   "cell_type": "code",
   "execution_count": 4,
   "id": "c57eefc7-f719-4bab-83a7-57c319ccfeda",
   "metadata": {},
   "outputs": [
    {
     "name": "stdout",
     "output_type": "stream",
     "text": [
      "['apple', 'Banana', 'cherry']\n",
      "['apple', 'Banana', 'cherry', 'date']\n",
      "Banana\n"
     ]
    }
   ],
   "source": [
    "# Example of a list\n",
    "fruits = [\"apple\", \"Banana\",\"cherry\"]\n",
    "print(fruits)\n",
    "\n",
    "#Adding on item to a list\n",
    "fruits.append(\"date\")\n",
    "print(fruits)\n",
    "\n",
    "# Accessing elements by index\n",
    "print(fruits[1])"
   ]
  },
  {
   "cell_type": "markdown",
   "id": "7c420a7a-7ec7-4d2b-a9d7-10383a3bcdfc",
   "metadata": {},
   "source": [
    "Dictionaries: A dictionary stores data in key-value pairs. it's useful for looking up values by their keys"
   ]
  },
  {
   "cell_type": "code",
   "execution_count": 6,
   "id": "96e3f109-4d2f-4572-94e1-2274d34feb00",
   "metadata": {},
   "outputs": [
    {
     "name": "stdout",
     "output_type": "stream",
     "text": [
      "{'name': 'John', 'age': 22, 'major': 'Computer Science'}\n"
     ]
    }
   ],
   "source": [
    "# Example of a dictionary \n",
    "student = {\"name\":\"John\", \"age\": 22,\"major\":\"Computer Science\"}\n",
    "print(student)"
   ]
  },
  {
   "cell_type": "markdown",
   "id": "1cfc04bd-9ed4-4a4a-a964-60fefe934ac6",
   "metadata": {},
   "source": [
    "Sets: A set is an unordered collection of unique items  "
   ]
  },
  {
   "cell_type": "code",
   "execution_count": 8,
   "id": "83a8977d-3396-4f2e-9323-b89c76743bcf",
   "metadata": {},
   "outputs": [
    {
     "name": "stdout",
     "output_type": "stream",
     "text": [
      "{1, 2, 3, 4, 5}\n",
      "{1, 2, 3, 4, 5, 6}\n"
     ]
    }
   ],
   "source": [
    "# Example of a dictionary\n",
    "numbers = {1, 2, 3, 4, 4, 5}\n",
    "print(numbers)  # Duplicate '4' is removed\n",
    "\n",
    "# Adding an element to a set\n",
    "numbers.add(6)\n",
    "print(numbers)"
   ]
  },
  {
   "cell_type": "markdown",
   "id": "388ad22c-185b-4030-824c-5f81467a7c9a",
   "metadata": {},
   "source": [
    "Tuples: A tuple is an ordered immutable collection of items."
   ]
  },
  {
   "cell_type": "code",
   "execution_count": 10,
   "id": "9c545272-758a-4e9b-87f3-1fcdde8dceba",
   "metadata": {},
   "outputs": [
    {
     "name": "stdout",
     "output_type": "stream",
     "text": [
      "(10.0, 20.0)\n",
      "10.0\n"
     ]
    }
   ],
   "source": [
    "# Example of a tuple\n",
    "coordinates = (10.0, 20.0)\n",
    "print (coordinates)\n",
    "\n",
    "#Accessing elements by index\n",
    "print(coordinates[0])\n"
   ]
  },
  {
   "cell_type": "markdown",
   "id": "c3f66b80-f535-4ea0-80cf-8c386f09cd59",
   "metadata": {},
   "source": [
    "### Index"
   ]
  },
  {
   "cell_type": "markdown",
   "id": "81b587ad-372d-4160-8a3c-6064a19e0f8d",
   "metadata": {},
   "source": [
    "An index refers to the position number of an item within a sequence or collection "
   ]
  },
  {
   "cell_type": "markdown",
   "id": "79202195-c9c9-4a79-bfbc-515ccdd8e120",
   "metadata": {},
   "source": [
    ". Zero-Based indexing - the first element in a sequence is at index 0,the second element at index 1, and so on.\n",
    "\n",
    ". Negative indexing - where -1 refers to the last element, -2 refers to the second last element and so on."
   ]
  },
  {
   "cell_type": "code",
   "execution_count": 14,
   "id": "59b0002b-5281-4f81-b93d-8d04bd9a0025",
   "metadata": {},
   "outputs": [],
   "source": [
    "# Example list\n",
    "numbers = [10,20,30,40,50]"
   ]
  },
  {
   "cell_type": "code",
   "execution_count": 15,
   "id": "d9ced128-2533-4e1b-b9d8-5d84ff4aa3ba",
   "metadata": {},
   "outputs": [
    {
     "name": "stdout",
     "output_type": "stream",
     "text": [
      "10\n",
      "50\n"
     ]
    }
   ],
   "source": [
    "# Accessing elements using positive and negative indices \n",
    "print(numbers[0])\n",
    "print(numbers[-1])"
   ]
  },
  {
   "cell_type": "code",
   "execution_count": 16,
   "id": "266f8eed-716e-4f3d-9fa5-6f685af09f7b",
   "metadata": {},
   "outputs": [
    {
     "name": "stdout",
     "output_type": "stream",
     "text": [
      "[20, 30, 40]\n"
     ]
    }
   ],
   "source": [
    "# slicing the list\n",
    "print(numbers[1:4])"
   ]
  },
  {
   "cell_type": "code",
   "execution_count": 17,
   "id": "05785850-1047-4141-aeb8-2bdae2fa0d29",
   "metadata": {},
   "outputs": [
    {
     "data": {
      "text/plain": [
       "'p'"
      ]
     },
     "execution_count": 17,
     "metadata": {},
     "output_type": "execute_result"
    }
   ],
   "source": [
    "# Example string\n",
    "name = \"python\"\n",
    "name[0]"
   ]
  },
  {
   "cell_type": "code",
   "execution_count": 18,
   "id": "2ad6f414-0085-42fd-9555-5f109b0d24dd",
   "metadata": {},
   "outputs": [
    {
     "name": "stdout",
     "output_type": "stream",
     "text": [
      "p\n",
      "n\n",
      "yth\n"
     ]
    }
   ],
   "source": [
    "print(name[0])\n",
    "print(name[-1])\n",
    "\n",
    "#slicing a string\n",
    "print(name[1:4])"
   ]
  },
  {
   "cell_type": "code",
   "execution_count": 19,
   "id": "f6117373-01b7-46f3-886d-329039474caf",
   "metadata": {},
   "outputs": [
    {
     "name": "stdout",
     "output_type": "stream",
     "text": [
      "True\n"
     ]
    }
   ],
   "source": [
    "# string method\n",
    "\n",
    "Course = \"Python for Beginners\"\n",
    "\n",
    "print(\"Python\" in Course)"
   ]
  },
  {
   "cell_type": "code",
   "execution_count": 20,
   "id": "801cb283-2ea4-45b7-9d2d-20cc8a306b21",
   "metadata": {},
   "outputs": [
    {
     "data": {
      "text/plain": [
       "'python for beginners'"
      ]
     },
     "execution_count": 20,
     "metadata": {},
     "output_type": "execute_result"
    }
   ],
   "source": [
    "Course.lower()"
   ]
  },
  {
   "cell_type": "code",
   "execution_count": 21,
   "id": "a34fea79-ba66-420a-a2d5-03c27579105b",
   "metadata": {},
   "outputs": [
    {
     "data": {
      "text/plain": [
       "'Python to Beginners'"
      ]
     },
     "execution_count": 21,
     "metadata": {},
     "output_type": "execute_result"
    }
   ],
   "source": [
    "Course.replace(\"for\", \"to\")"
   ]
  },
  {
   "cell_type": "code",
   "execution_count": 22,
   "id": "c008ccdf-c5e0-4661-9232-1ee1faa761af",
   "metadata": {},
   "outputs": [
    {
     "data": {
      "text/plain": [
       "'PYTHON FOR BEGINNERS'"
      ]
     },
     "execution_count": 22,
     "metadata": {},
     "output_type": "execute_result"
    }
   ],
   "source": [
    "Course.upper()"
   ]
  },
  {
   "cell_type": "markdown",
   "id": "669c540e-5c8d-40f7-84cc-ba7cc38bb96a",
   "metadata": {},
   "source": [
    "1. ### List\n",
    "    \n",
    "   A list is an ordered, mutable(changeable) collection that allows duplicate elements. List are created by placing elements inside square bracket[].\n",
    "   \n",
    "#### Characteristics:\n",
    "\n",
    "  . ordered : Elements have a defined order and the order will not change unless explicity modified \n",
    "  \n",
    "  . Mutable : You can change, add,or remove elements after the list has been created \n",
    "  \n",
    "  . Allow duplicates: Lists can contain duplicate elements "
   ]
  },
  {
   "cell_type": "code",
   "execution_count": 40,
   "id": "8f48c511-fec1-4f32-a4ed-54251f047dca",
   "metadata": {},
   "outputs": [
    {
     "data": {
      "text/plain": [
       "[1, 2, 3, 4, 5]"
      ]
     },
     "execution_count": 40,
     "metadata": {},
     "output_type": "execute_result"
    }
   ],
   "source": [
    "# Example\n",
    "my_list = [1,2,3,4,5]\n",
    "my_list"
   ]
  },
  {
   "cell_type": "code",
   "execution_count": 43,
   "id": "542e0a7e-212c-4330-932e-498bef60ce22",
   "metadata": {},
   "outputs": [],
   "source": [
    "list2 = [1, 'hello', 3.14, [2,3], {\"key\":\"value\"}]\n",
    "#contains integer, string, float, list and dictionary "
   ]
  },
  {
   "cell_type": "code",
   "execution_count": 46,
   "id": "a7bccce7-717c-4096-aeda-4a0cae18e20a",
   "metadata": {},
   "outputs": [
    {
     "data": {
      "text/plain": [
       "[1, 'hello', 3.14, [2, 3], {'key': 'value'}]"
      ]
     },
     "execution_count": 46,
     "metadata": {},
     "output_type": "execute_result"
    }
   ],
   "source": [
    "list2"
   ]
  },
  {
   "cell_type": "markdown",
   "id": "69092e66-56d0-4d31-861c-81a8c857dbae",
   "metadata": {},
   "source": [
    "### Common List Methods \n",
    "\n",
    "   . append(item): Adds an item to the end of the list\n",
    "   \n",
    "   . extend(iterable) : Adds all element of an iterable (like another list) to the end of the list.\n",
    "   \n",
    "   . insert(index, item) : inserts an item at a given position\n",
    "   \n",
    "   . remove(item) : Removes the first occurence of an item \n",
    "   \n",
    "   . pop (index) : Removes and returns the items at the givven position (default in the last item)\n",
    "   \n",
    "   . sort() : Sorts the list in ascending order.\n",
    "   \n",
    "   . reverse(): Reverse the list \n",
    "   \n",
    "   . count(item): Returns the number of occurences of an item.\n",
    "\n",
    "   . index(item) : Returns the index of the first occurence of an item."
   ]
  },
  {
   "cell_type": "code",
   "execution_count": 53,
   "id": "a73447d9-97dc-40ba-8c01-0e1ebabdb2a5",
   "metadata": {},
   "outputs": [
    {
     "data": {
      "text/plain": [
       "2"
      ]
     },
     "execution_count": 53,
     "metadata": {},
     "output_type": "execute_result"
    }
   ],
   "source": [
    "list2[-2][0]"
   ]
  },
  {
   "cell_type": "code",
   "execution_count": 55,
   "id": "b1f9754f-8148-41c8-b170-656ba0d01d19",
   "metadata": {},
   "outputs": [],
   "source": [
    "list2.append(\"th\")"
   ]
  },
  {
   "cell_type": "code",
   "execution_count": 57,
   "id": "ecf88cdd-875f-4d0d-947f-ad319290bb77",
   "metadata": {},
   "outputs": [
    {
     "data": {
      "text/plain": [
       "[1, 'hello', 3.14, [2, 3], {'key': 'value'}, 'th']"
      ]
     },
     "execution_count": 57,
     "metadata": {},
     "output_type": "execute_result"
    }
   ],
   "source": [
    "list2"
   ]
  },
  {
   "cell_type": "code",
   "execution_count": 59,
   "id": "ce99d977-6b99-4a33-a5ca-e1330ef655fb",
   "metadata": {},
   "outputs": [],
   "source": [
    "list2.extend(\"77\")"
   ]
  },
  {
   "cell_type": "code",
   "execution_count": 61,
   "id": "b9f4d7b0-b86e-4d48-8dbb-04a099c6cef0",
   "metadata": {},
   "outputs": [
    {
     "data": {
      "text/plain": [
       "[1, 'hello', 3.14, [2, 3], {'key': 'value'}, 'th', '7', '7']"
      ]
     },
     "execution_count": 61,
     "metadata": {},
     "output_type": "execute_result"
    }
   ],
   "source": [
    "list2"
   ]
  },
  {
   "cell_type": "code",
   "execution_count": 67,
   "id": "012023a1-acbd-4f93-82ec-9bbd5006fb2c",
   "metadata": {},
   "outputs": [],
   "source": [
    "list2.insert(1, 7)"
   ]
  },
  {
   "cell_type": "code",
   "execution_count": 69,
   "id": "a7c0b266-4750-43d4-946a-cc0f6e4b9310",
   "metadata": {},
   "outputs": [
    {
     "data": {
      "text/plain": [
       "[1, 7, 'hello', 3.14, [2, 3], {'key': 'value'}, 'th', '7', '7']"
      ]
     },
     "execution_count": 69,
     "metadata": {},
     "output_type": "execute_result"
    }
   ],
   "source": [
    "list2"
   ]
  },
  {
   "cell_type": "code",
   "execution_count": 71,
   "id": "01ff99ec-e814-407b-b7b9-95776f3c51ea",
   "metadata": {},
   "outputs": [],
   "source": [
    "my_list.remove(3) # works with the avtual item"
   ]
  },
  {
   "cell_type": "code",
   "execution_count": 73,
   "id": "c6164316-5b7d-46ee-a4c7-f6c9dee99393",
   "metadata": {},
   "outputs": [
    {
     "data": {
      "text/plain": [
       "[1, 2, 4, 5, 6]"
      ]
     },
     "execution_count": 73,
     "metadata": {},
     "output_type": "execute_result"
    }
   ],
   "source": [
    "my_list"
   ]
  },
  {
   "cell_type": "code",
   "execution_count": 75,
   "id": "4edb9140-1990-4585-8877-4d803136b9b0",
   "metadata": {},
   "outputs": [
    {
     "data": {
      "text/plain": [
       "'7'"
      ]
     },
     "execution_count": 75,
     "metadata": {},
     "output_type": "execute_result"
    }
   ],
   "source": [
    "list2.pop() # works with indexing"
   ]
  },
  {
   "cell_type": "code",
   "execution_count": 77,
   "id": "f53dca80-c31c-40ae-b0ba-41a2f325bf5a",
   "metadata": {},
   "outputs": [
    {
     "data": {
      "text/plain": [
       "[1, 7, 'hello', 3.14, [2, 3], {'key': 'value'}, 'th', '7']"
      ]
     },
     "execution_count": 77,
     "metadata": {},
     "output_type": "execute_result"
    }
   ],
   "source": [
    "list2"
   ]
  },
  {
   "cell_type": "code",
   "execution_count": 79,
   "id": "a63e9a75-8910-4694-87a1-3613838ea61e",
   "metadata": {},
   "outputs": [],
   "source": [
    "list2.reverse()"
   ]
  },
  {
   "cell_type": "code",
   "execution_count": 81,
   "id": "6c1fb63b-9581-4a78-8dd1-8711cfc553bf",
   "metadata": {},
   "outputs": [
    {
     "data": {
      "text/plain": [
       "['7', 'th', {'key': 'value'}, [2, 3], 3.14, 'hello', 7, 1]"
      ]
     },
     "execution_count": 81,
     "metadata": {},
     "output_type": "execute_result"
    }
   ],
   "source": [
    "list2"
   ]
  },
  {
   "cell_type": "code",
   "execution_count": 85,
   "id": "b6594575-2836-4b50-9a2a-f28d27d2d87c",
   "metadata": {},
   "outputs": [],
   "source": [
    "my_list.sort()"
   ]
  },
  {
   "cell_type": "code",
   "execution_count": 87,
   "id": "395ae4ad-8be2-4c05-9f89-cb153772e961",
   "metadata": {},
   "outputs": [
    {
     "data": {
      "text/plain": [
       "[1, 2, 4, 5, 6]"
      ]
     },
     "execution_count": 87,
     "metadata": {},
     "output_type": "execute_result"
    }
   ],
   "source": [
    "my_list"
   ]
  },
  {
   "cell_type": "code",
   "execution_count": 89,
   "id": "ee360215-d506-4115-b072-b03bb60fd7d7",
   "metadata": {},
   "outputs": [
    {
     "data": {
      "text/plain": [
       "1"
      ]
     },
     "execution_count": 89,
     "metadata": {},
     "output_type": "execute_result"
    }
   ],
   "source": [
    "my_list.count(2)"
   ]
  },
  {
   "cell_type": "markdown",
   "id": "dab52e14-7433-4f5b-a0f9-f44ab981349c",
   "metadata": {},
   "source": [
    " 2. ### Tuple\n",
    "\n",
    "    A tuple is an ordered, immutable (unchangeable) collection that allows duplicate elements. Tuples are created by placing element inseide parentheses()"
   ]
  },
  {
   "cell_type": "markdown",
   "id": "e0eec7ba-5203-479e-a5ba-909bbd3e0a45",
   "metadata": {},
   "source": [
    "### Characteristics:\n",
    "  . ordered: Elements have a specific order, and this order will not change\n",
    "\n",
    "  . Immutable: Once a tuple a created, you can change the elements.\n",
    "\n",
    "  . Allows duplicates: Tuple can contain duplicate "
   ]
  },
  {
   "cell_type": "code",
   "execution_count": 2,
   "id": "e7f13dc6-4f1e-49a5-a75d-d17b19429b7c",
   "metadata": {},
   "outputs": [
    {
     "data": {
      "text/plain": [
       "(1, 2, 3, 4, 5)"
      ]
     },
     "execution_count": 2,
     "metadata": {},
     "output_type": "execute_result"
    }
   ],
   "source": [
    "# Example\n",
    "my_tuple = (1, 2, 3, 4, 5)\n",
    "my_tuple"
   ]
  },
  {
   "cell_type": "code",
   "execution_count": 6,
   "id": "b3ab3058-4cb2-4da3-baae-e29081e81284",
   "metadata": {},
   "outputs": [],
   "source": [
    "tuple2 = (1, 'world', 2.71, (4, 5),{\"key\" : \"value\"})"
   ]
  },
  {
   "cell_type": "code",
   "execution_count": 8,
   "id": "bde4c625-459e-42cb-af35-828e94425642",
   "metadata": {},
   "outputs": [
    {
     "data": {
      "text/plain": [
       "(1, 'world', 2.71, (4, 5), {'key': 'value'})"
      ]
     },
     "execution_count": 8,
     "metadata": {},
     "output_type": "execute_result"
    }
   ],
   "source": [
    "tuple2"
   ]
  },
  {
   "cell_type": "markdown",
   "id": "b678e8e4-927a-4d1c-8278-b16006623956",
   "metadata": {},
   "source": [
    "### Common Tuple Methods:\n",
    "\n",
    "  . Count(item) : Returns the number of times an item appear in the tuple\n",
    "  \n",
    "  . index(item) : Returns the index of the first occurence of an item."
   ]
  },
  {
   "cell_type": "code",
   "execution_count": 11,
   "id": "8ad050fa-a5bf-4b62-aae2-ea59fd4a7c67",
   "metadata": {},
   "outputs": [
    {
     "data": {
      "text/plain": [
       "1"
      ]
     },
     "execution_count": 11,
     "metadata": {},
     "output_type": "execute_result"
    }
   ],
   "source": [
    "# count occurences of an item \n",
    "my_tuple.count(2)"
   ]
  },
  {
   "cell_type": "code",
   "execution_count": 13,
   "id": "8c0fccf7-5c84-47e6-a33c-80f0f5c3295c",
   "metadata": {},
   "outputs": [
    {
     "data": {
      "text/plain": [
       "2"
      ]
     },
     "execution_count": 13,
     "metadata": {},
     "output_type": "execute_result"
    }
   ],
   "source": [
    "# Get the index of an item \n",
    "my_tuple.index(3)"
   ]
  },
  {
   "cell_type": "code",
   "execution_count": 15,
   "id": "2497495c-c5df-49ee-8feb-3bf5d80f4e83",
   "metadata": {},
   "outputs": [
    {
     "data": {
      "text/plain": [
       "1"
      ]
     },
     "execution_count": 15,
     "metadata": {},
     "output_type": "execute_result"
    }
   ],
   "source": [
    "# Access elements by index\n",
    "my_tuple[0]"
   ]
  },
  {
   "cell_type": "markdown",
   "id": "de735c52-934d-4467-bf5c-0d8870cd63c8",
   "metadata": {},
   "source": [
    "3. #### Set"
   ]
  },
  {
   "cell_type": "markdown",
   "id": "fc899670-7e07-415d-b451-13b14743898d",
   "metadata": {},
   "source": [
    " A set is an unordered,mutuable and unindexed collection that does not allow duplicate elements . set are created using curly brackets {} or the set function.  "
   ]
  },
  {
   "cell_type": "markdown",
   "id": "cc17b462-6286-4c02-a977-e52a843b3fae",
   "metadata": {},
   "source": [
    "### Characteristics:"
   ]
  },
  {
   "cell_type": "markdown",
   "id": "99d881c6-826a-4314-b437-43065b233d0d",
   "metadata": {},
   "source": [
    "   . Unordered : There is no defined order fro the elements \n",
    "\n",
    "   . Mutable : You can add or remove elements from a set, but once added, elements cannot be changed \n",
    "\n",
    "   . No duplicates : set automatically remove duplicate elements "
   ]
  },
  {
   "cell_type": "code",
   "execution_count": 22,
   "id": "fa70564a-f51f-495b-9104-b7abc85d58e7",
   "metadata": {},
   "outputs": [
    {
     "data": {
      "text/plain": [
       "{1, 2, 3, 4, 5}"
      ]
     },
     "execution_count": 22,
     "metadata": {},
     "output_type": "execute_result"
    }
   ],
   "source": [
    "# Example \n",
    "my_set = {1, 2, 3, 4, 5, 5}\n",
    "my_set"
   ]
  },
  {
   "cell_type": "code",
   "execution_count": 45,
   "id": "bace9272-a0df-486a-b3d6-8a75456a7d71",
   "metadata": {},
   "outputs": [],
   "source": [
    "sets = {1, \"apple\", 3.14, (1, 2)}"
   ]
  },
  {
   "cell_type": "markdown",
   "id": "6975f2f8-eb51-417b-84c5-f4d333b51ca1",
   "metadata": {},
   "source": [
    "#### Common Set Method \n",
    "\n",
    "   . add(item) : Adds an element to the set.\n",
    "   \n",
    "   . remove(item) : Removes a specific element from the set.\n",
    "   \n",
    "   . discard(item): Removes a speccific element if it exist, without raising an error if it doesn't.\n",
    "   \n",
    "   . pop () : Removes and returns a random element \n",
    "   \n",
    "   . clear() : Removes all element from the set.\n",
    "   \n",
    "   . Union(sets2): Return a set containing all elements from both sets \n",
    "   \n",
    "   . intersection(sets); Returns a set containing all elements found in both sets\n",
    "   \n",
    "   . differences(sets): Returns a set containing elements in the first set but not in the second "
   ]
  },
  {
   "cell_type": "code",
   "execution_count": 27,
   "id": "7db5c373-ae8c-4b19-9cbc-73ae77a98a6f",
   "metadata": {},
   "outputs": [],
   "source": [
    "# Adding an element \n",
    "my_set.add(14)"
   ]
  },
  {
   "cell_type": "code",
   "execution_count": 29,
   "id": "664f5c8d-89b8-4651-abd9-67cc9f9a1620",
   "metadata": {},
   "outputs": [
    {
     "data": {
      "text/plain": [
       "{1, 2, 3, 4, 5, 14}"
      ]
     },
     "execution_count": 29,
     "metadata": {},
     "output_type": "execute_result"
    }
   ],
   "source": [
    "my_set"
   ]
  },
  {
   "cell_type": "code",
   "execution_count": 37,
   "id": "3d29a3f4-22a1-494c-8fca-895bb0d354ec",
   "metadata": {},
   "outputs": [
    {
     "data": {
      "text/plain": [
       "{1, 2, 5, 14}"
      ]
     },
     "execution_count": 37,
     "metadata": {},
     "output_type": "execute_result"
    }
   ],
   "source": [
    "my_set.remove(4)\n",
    "my_set"
   ]
  },
  {
   "cell_type": "code",
   "execution_count": 39,
   "id": "eec63bd2-678a-4e01-bf73-06a6088e6fd4",
   "metadata": {},
   "outputs": [
    {
     "data": {
      "text/plain": [
       "{1, 2, 5, 14}"
      ]
     },
     "execution_count": 39,
     "metadata": {},
     "output_type": "execute_result"
    }
   ],
   "source": [
    "my_set"
   ]
  },
  {
   "cell_type": "code",
   "execution_count": 49,
   "id": "001ac86d-52f0-4ecb-9101-251630acb7c6",
   "metadata": {},
   "outputs": [],
   "source": [
    "union = my_set.union(sets)"
   ]
  },
  {
   "cell_type": "code",
   "execution_count": 51,
   "id": "cdc608b7-ac77-4491-95a3-dc5194629249",
   "metadata": {},
   "outputs": [
    {
     "data": {
      "text/plain": [
       "{(1, 2), 1, 14, 2, 3.14, 5, 'apple'}"
      ]
     },
     "execution_count": 51,
     "metadata": {},
     "output_type": "execute_result"
    }
   ],
   "source": [
    "union"
   ]
  },
  {
   "cell_type": "code",
   "execution_count": 53,
   "id": "0cbb00b5-693d-4b81-b36e-a13cfea416ce",
   "metadata": {},
   "outputs": [],
   "source": [
    "intersection_set =my_set.intersection(sets)"
   ]
  },
  {
   "cell_type": "code",
   "execution_count": 55,
   "id": "e32805ed-e38c-45b3-a0a7-f0201313f5bc",
   "metadata": {},
   "outputs": [
    {
     "data": {
      "text/plain": [
       "{1}"
      ]
     },
     "execution_count": 55,
     "metadata": {},
     "output_type": "execute_result"
    }
   ],
   "source": [
    "intersection_set"
   ]
  },
  {
   "cell_type": "code",
   "execution_count": 59,
   "id": "802f1f9e-02d2-48dc-8edc-465571e38220",
   "metadata": {},
   "outputs": [],
   "source": [
    "difference_set = my_set.difference(sets)"
   ]
  },
  {
   "cell_type": "code",
   "execution_count": 61,
   "id": "f8defabd-6018-43cf-88d2-8a8d2f8fd945",
   "metadata": {},
   "outputs": [
    {
     "data": {
      "text/plain": [
       "{2, 5, 14}"
      ]
     },
     "execution_count": 61,
     "metadata": {},
     "output_type": "execute_result"
    }
   ],
   "source": [
    "difference_set"
   ]
  },
  {
   "cell_type": "markdown",
   "id": "c8f97080-54ec-4161-a696-90f34a620378",
   "metadata": {},
   "source": [
    "4. ### Dictionary"
   ]
  },
  {
   "cell_type": "markdown",
   "id": "b025ef10-d71e-4e2f-a44b-18afc9469906",
   "metadata": {},
   "source": [
    " A dictionary is an odered, mutable collection of key_value pairs. Each key must be unique and it is assiociated with a specific value. Dictionare are created using curly braces {} with key_value pairs seperated by a colon: "
   ]
  },
  {
   "cell_type": "markdown",
   "id": "613b9374-eda0-436c-9c40-9a03bb7419c8",
   "metadata": {},
   "source": [
    "### Characteristics:"
   ]
  },
  {
   "cell_type": "markdown",
   "id": "a4e73e19-aa3b-47e5-bb84-51392ec1da8e",
   "metadata": {},
   "source": [
    "    . ordered : The elements are stored as key_value pairs. Note: in the previous version of python 3.6 and earlier, dictionaries are unordered.\n",
    "        \n",
    "    . Mutable : You can add, change or remove key_value pairs.\n",
    "        \n",
    "    . Keys must be unique: You cannot have duplicate keys though values can be duplicated."
   ]
  },
  {
   "cell_type": "code",
   "execution_count": 67,
   "id": "32a1de27-793b-4bd7-9765-e1f4abc12372",
   "metadata": {},
   "outputs": [],
   "source": [
    "my_dict = {\n",
    "    \"name\" : \"Alice\",\n",
    "    \"age\" : 23,\n",
    "    \"city\": \"New York\"\n",
    "}"
   ]
  },
  {
   "cell_type": "code",
   "execution_count": 69,
   "id": "e873e921-a242-439e-97dd-d48270b685e6",
   "metadata": {},
   "outputs": [
    {
     "data": {
      "text/plain": [
       "{'name': 'Alice', 'age': 23, 'city': 'New York'}"
      ]
     },
     "execution_count": 69,
     "metadata": {},
     "output_type": "execute_result"
    }
   ],
   "source": [
    "my_dict"
   ]
  },
  {
   "cell_type": "code",
   "execution_count": 71,
   "id": "b93e3628-b728-44a1-aef2-0a67e5ebee59",
   "metadata": {},
   "outputs": [],
   "source": [
    "dict1 = {\"name\":[\"Alice\",\"Sam\",\"Obi\",\"Chi\"],\n",
    "        \"age\":[25,20,30,45],\n",
    "        \"city\":[\"New York\",\"LA\",\"Jos\",\"Abj\"]\n",
    "        }\n"
   ]
  },
  {
   "cell_type": "code",
   "execution_count": 73,
   "id": "868b5ce5-4300-4cb2-9d0f-8d3a48417a65",
   "metadata": {},
   "outputs": [
    {
     "data": {
      "text/plain": [
       "{'name': ['Alice', 'Sam', 'Obi', 'Chi'],\n",
       " 'age': [25, 20, 30, 45],\n",
       " 'city': ['New York', 'LA', 'Jos', 'Abj']}"
      ]
     },
     "execution_count": 73,
     "metadata": {},
     "output_type": "execute_result"
    }
   ],
   "source": [
    "dict1"
   ]
  },
  {
   "cell_type": "code",
   "execution_count": 75,
   "id": "0e5d1494-2747-4718-8275-c2d615e97874",
   "metadata": {},
   "outputs": [],
   "source": [
    "dict2 = {\n",
    "    \"Integar_key\":10,\n",
    "    \"String_key\" :\"value\",\n",
    "    \"float_key\" : 3.14,\n",
    "    \"list_key\" : [1, 2, 2],\n",
    "    \"tuple_key\" : (4, 5),\n",
    "    \"dict_key\" : {\"inner_key\": \"inner_value\"}\n",
    "}\n",
    "# Keys are string, values include integar, string, float, list, tuple, and another dictionary "
   ]
  },
  {
   "cell_type": "code",
   "execution_count": 77,
   "id": "ddea5b06-3c66-42c9-a88b-1750224a78f8",
   "metadata": {},
   "outputs": [
    {
     "data": {
      "text/plain": [
       "{'Integar_key': 10,\n",
       " 'String_key': 'value',\n",
       " 'float_key': 3.14,\n",
       " 'list_key': [1, 2, 2],\n",
       " 'tuple_key': (4, 5),\n",
       " 'dict_key': {'inner_key': 'inner_value'}}"
      ]
     },
     "execution_count": 77,
     "metadata": {},
     "output_type": "execute_result"
    }
   ],
   "source": [
    "dict2"
   ]
  },
  {
   "cell_type": "markdown",
   "id": "a7cf43b8-768e-4f52-a439-e9ec7e0f9920",
   "metadata": {},
   "source": [
    "### Common Dictionary Methods \n",
    "\n",
    "   . get(key): Returns the value for a specified key.\n",
    "   \n",
    "   . keys(): Returns all the keys in the dictionary.\n",
    "   \n",
    "   . Values : Returns all the values in the dictionary.\n",
    "   \n",
    "   . items(): Returns all key_value pairs as tuples.\n",
    "   \n",
    "   . update(dict2): updates the dictiornary with the key_value pairs from another dictionary.\n",
    "   \n",
    "   .pop(key): Removes and returns the value for the specified key.\n",
    "   \n",
    "   . clear(): Removes all key_value from the dictionary "
   ]
  },
  {
   "cell_type": "code",
   "execution_count": 83,
   "id": "036f4643-2291-402b-99b5-dbebb67564a8",
   "metadata": {},
   "outputs": [
    {
     "data": {
      "text/plain": [
       "dict_items([('name', 'Alice'), ('age', 23), ('city', 'New York')])"
      ]
     },
     "execution_count": 83,
     "metadata": {},
     "output_type": "execute_result"
    }
   ],
   "source": [
    "my_dict.items()"
   ]
  },
  {
   "cell_type": "markdown",
   "id": "f32f3a42-6a34-48c8-bcb1-d8ba44ee04a2",
   "metadata": {},
   "source": [
    "### LOOP\n",
    "\n",
    "loops are used to avoid writing repetitive code. They allow us to repeat actions based on conditions.  "
   ]
  },
  {
   "cell_type": "code",
   "execution_count": 86,
   "id": "50b0cf83-86d4-4c2a-889b-9ee4ec1380b2",
   "metadata": {},
   "outputs": [
    {
     "name": "stdout",
     "output_type": "stream",
     "text": [
      "Hello World\n",
      "Hello World\n",
      "Hello World\n",
      "Hello World\n"
     ]
    }
   ],
   "source": [
    "for i in range(4) :\n",
    "    print(\"Hello World\")\n",
    "\n"
   ]
  },
  {
   "cell_type": "markdown",
   "id": "38489f9b-e701-4fa3-a214-44702917796c",
   "metadata": {},
   "source": [
    "#### for loop\n",
    "\n",
    "   . The for loop is used to iterate over a sequence (such as a list, tuple, dictionary, set or string) or iterable objects.\n",
    "       \n",
    "   . A for loop is used to repeat actions for a knows number of items. Think of it like going through a list or checklist,doing something for each items.\n",
    "\n",
    "   . Useful when you know how many items you need to repeat an action(like a list of items to go through)\n"
   ]
  },
  {
   "cell_type": "code",
   "execution_count": 89,
   "id": "b36f3e2e-7f85-41be-8a8c-225efd9fdb37",
   "metadata": {},
   "outputs": [
    {
     "data": {
      "text/plain": [
       "range(0, 10)"
      ]
     },
     "execution_count": 89,
     "metadata": {},
     "output_type": "execute_result"
    }
   ],
   "source": [
    "range(10)"
   ]
  },
  {
   "cell_type": "code",
   "execution_count": 93,
   "id": "761736e5-028e-430a-aa09-e217fb980cff",
   "metadata": {},
   "outputs": [
    {
     "name": "stdout",
     "output_type": "stream",
     "text": [
      "range(2, 10)\n"
     ]
    }
   ],
   "source": [
    "r = range(2, 10)\n",
    "print(r)"
   ]
  },
  {
   "cell_type": "code",
   "execution_count": 95,
   "id": "4159296b-3609-4fa7-a33e-10c9d0532d10",
   "metadata": {},
   "outputs": [
    {
     "name": "stdout",
     "output_type": "stream",
     "text": [
      "range(2, 20, 5)\n"
     ]
    }
   ],
   "source": [
    "r = range(2, 20, 5)\n",
    "print(r)"
   ]
  },
  {
   "cell_type": "code",
   "execution_count": 97,
   "id": "4dcfd173-6926-48ad-8bbb-38a8f0db5bc0",
   "metadata": {},
   "outputs": [
    {
     "name": "stdout",
     "output_type": "stream",
     "text": [
      "0\n",
      "1\n",
      "2\n",
      "3\n",
      "4\n",
      "5\n",
      "6\n",
      "7\n",
      "8\n",
      "9\n"
     ]
    }
   ],
   "source": [
    "for r in range (10):\n",
    "    print(r)"
   ]
  },
  {
   "cell_type": "code",
   "execution_count": 99,
   "id": "b987f44f-8419-4018-982d-fc81f0d01c27",
   "metadata": {},
   "outputs": [
    {
     "name": "stdout",
     "output_type": "stream",
     "text": [
      "2\n",
      "3\n",
      "4\n",
      "5\n",
      "6\n",
      "7\n",
      "8\n",
      "9\n"
     ]
    }
   ],
   "source": [
    "for r in range (2, 10):\n",
    "    print(r)"
   ]
  },
  {
   "cell_type": "code",
   "execution_count": 101,
   "id": "5eb1293b-1a39-4ec5-ba2c-9fed43be2f47",
   "metadata": {},
   "outputs": [
    {
     "name": "stdout",
     "output_type": "stream",
     "text": [
      "2\n",
      "7\n",
      "12\n",
      "17\n"
     ]
    }
   ],
   "source": [
    "for r in range (2, 20, 5):\n",
    "    print(r)"
   ]
  },
  {
   "cell_type": "code",
   "execution_count": 103,
   "id": "37669d89-9635-44d4-b576-3c36211a517c",
   "metadata": {},
   "outputs": [
    {
     "name": "stdout",
     "output_type": "stream",
     "text": [
      "0\n",
      "1\n",
      "2\n",
      "3\n",
      "4\n",
      "5\n",
      "6\n",
      "7\n",
      "8\n",
      "9\n",
      "10\n"
     ]
    }
   ],
   "source": [
    "for numbers in range (11):\n",
    "    print(numbers)"
   ]
  },
  {
   "cell_type": "code",
   "execution_count": 105,
   "id": "59e5c9aa-0654-4946-b826-8219f12d3374",
   "metadata": {},
   "outputs": [
    {
     "name": "stdout",
     "output_type": "stream",
     "text": [
      "0\n",
      "1\n",
      "2\n",
      "3\n",
      "4\n"
     ]
    }
   ],
   "source": [
    "for i in range (5):\n",
    "    print(i)"
   ]
  },
  {
   "cell_type": "code",
   "execution_count": 107,
   "id": "a7d51d75-2a75-4c27-8d7d-0fb157ff499c",
   "metadata": {},
   "outputs": [
    {
     "name": "stdout",
     "output_type": "stream",
     "text": [
      "[0, 1, 2, 3, 4]\n"
     ]
    }
   ],
   "source": [
    "# create an empty list to hold the values\n",
    "results = []\n",
    "\n",
    "# for loop to iterate and collect values \n",
    "for i in range (5):\n",
    "    results.append(i)\n",
    "\n",
    "# output the collected values \n",
    "print(results)"
   ]
  },
  {
   "cell_type": "code",
   "execution_count": 109,
   "id": "12fe2e9d-64e4-42f5-b717-c79f6fa2768f",
   "metadata": {},
   "outputs": [
    {
     "name": "stdout",
     "output_type": "stream",
     "text": [
      "0\n",
      "1\n",
      "2\n",
      "3\n",
      "4\n",
      "5\n",
      "6\n",
      "7\n",
      "8\n",
      "9\n"
     ]
    }
   ],
   "source": [
    "for i in range (10):\n",
    "    print(i)"
   ]
  },
  {
   "cell_type": "code",
   "execution_count": 113,
   "id": "b715f109-69ad-4ad7-8164-084ef3fe3b4a",
   "metadata": {},
   "outputs": [
    {
     "name": "stdout",
     "output_type": "stream",
     "text": [
      "[2, 4, 6, 8, 10, 12, 14, 16, 18, 20]\n"
     ]
    }
   ],
   "source": [
    "y = []\n",
    "for numbers in range(2,21,2):\n",
    "    y.append(numbers)\n",
    "print(y)"
   ]
  },
  {
   "cell_type": "code",
   "execution_count": 115,
   "id": "bdc7afa0-5967-433c-8064-d0aeee0a965f",
   "metadata": {},
   "outputs": [
    {
     "name": "stdout",
     "output_type": "stream",
     "text": [
      "[2, 4, 6, 8, 10, 12, 14, 16, 18, 20]\n"
     ]
    }
   ],
   "source": [
    "x =[numbers for numbers in range(2,21,2)]\n",
    "print(x)"
   ]
  },
  {
   "cell_type": "code",
   "execution_count": 119,
   "id": "4e1fa0d7-f27f-4085-833c-8ea14ee9fcf0",
   "metadata": {},
   "outputs": [
    {
     "name": "stdout",
     "output_type": "stream",
     "text": [
      "[10, 20, 30, 40]\n"
     ]
    }
   ],
   "source": [
    "x=[i for i in range (10,50,10)]\n",
    "print(x)"
   ]
  },
  {
   "cell_type": "code",
   "execution_count": 121,
   "id": "61ff70c1-c85e-4ef8-b3f4-b57c91a28c8c",
   "metadata": {},
   "outputs": [
    {
     "name": "stdout",
     "output_type": "stream",
     "text": [
      "1\n",
      "3\n",
      "5\n",
      "7\n",
      "9\n",
      "11\n",
      "13\n",
      "15\n",
      "17\n",
      "19\n",
      "21\n",
      "23\n",
      "25\n",
      "27\n",
      "29\n",
      "31\n",
      "33\n",
      "35\n",
      "37\n",
      "39\n",
      "41\n",
      "43\n",
      "45\n",
      "47\n",
      "49\n"
     ]
    }
   ],
   "source": [
    "for i in range (50):\n",
    "    if i % 2 != 0:\n",
    "        print(i)\n",
    "    "
   ]
  },
  {
   "cell_type": "code",
   "execution_count": 123,
   "id": "7108b8c1-697a-4afb-83b0-6234841d9bdf",
   "metadata": {},
   "outputs": [
    {
     "name": "stdout",
     "output_type": "stream",
     "text": [
      "[1, 3, 5, 7, 9, 11, 13, 15, 17, 19, 21, 23, 25, 27, 29, 31, 33, 35, 37, 39, 41, 43, 45, 47, 49]\n"
     ]
    }
   ],
   "source": [
    "r = []\n",
    "for i in range(50):\n",
    "    if i %2 != 0:\n",
    "        r.append(i)\n",
    "print(r)"
   ]
  },
  {
   "cell_type": "code",
   "execution_count": 127,
   "id": "bbd8045e-d61b-45e3-b94d-9edf0ebaa1a6",
   "metadata": {},
   "outputs": [
    {
     "name": "stdout",
     "output_type": "stream",
     "text": [
      "[1, 3, 5, 7, 9, 11, 13, 15, 17, 19, 21, 23, 25, 27, 29, 31, 33, 35, 37, 39, 41, 43, 45, 47, 49]\n"
     ]
    }
   ],
   "source": [
    "y =[i for i in range(50) if i %2 != 0]\n",
    "print(y)"
   ]
  },
  {
   "cell_type": "code",
   "execution_count": 129,
   "id": "de09fbf5-ce7a-4dea-a1a1-0f22ed0a0b84",
   "metadata": {},
   "outputs": [
    {
     "name": "stdout",
     "output_type": "stream",
     "text": [
      "10\n",
      "8\n",
      "6\n",
      "4\n",
      "2\n",
      "Happy New Year:\n",
      "it's 2025 !!!!!! Ahhhhh\n"
     ]
    }
   ],
   "source": [
    "for i in range(10, 0, -2):\n",
    "    print(i)\n",
    "print(\"Happy New Year:\")\n",
    "print(\"it's 2025 !!!!!! Ahhhhh\")"
   ]
  },
  {
   "cell_type": "code",
   "execution_count": 131,
   "id": "cf74de34-67ce-412f-bb41-038f346d2416",
   "metadata": {},
   "outputs": [
    {
     "name": "stdout",
     "output_type": "stream",
     "text": [
      "Sum of even numbers: 0\n",
      "Sum of even numbers: 2\n",
      "Sum of even numbers: 2\n",
      "Sum of even numbers: 6\n",
      "Sum of even numbers: 6\n",
      "Sum of even numbers: 12\n",
      "Sum of even numbers: 12\n",
      "Sum of even numbers: 20\n",
      "Sum of even numbers: 20\n",
      "Sum of even numbers: 30\n",
      "Sum of even numbers: 30\n",
      "Sum of even numbers: 42\n",
      "Sum of even numbers: 42\n",
      "Sum of even numbers: 56\n",
      "Sum of even numbers: 56\n",
      "Sum of even numbers: 72\n",
      "Sum of even numbers: 72\n",
      "Sum of even numbers: 90\n",
      "Sum of even numbers: 90\n",
      "Sum of even numbers: 110\n"
     ]
    }
   ],
   "source": [
    "# sum of all even number from 1 to 21\n",
    "\n",
    "total = 0\n",
    "for i in range(1,21):\n",
    "    if i %2 ==0:\n",
    "        total += i\n",
    "    print (f\"Sum of even numbers: {total}\")"
   ]
  },
  {
   "cell_type": "code",
   "execution_count": 133,
   "id": "69110414-ff8b-4bae-aabb-ca1df3779189",
   "metadata": {},
   "outputs": [
    {
     "name": "stdout",
     "output_type": "stream",
     "text": [
      "10\n"
     ]
    }
   ],
   "source": [
    "x = 5\n",
    "x +=5\n",
    "print(x)"
   ]
  },
  {
   "cell_type": "code",
   "execution_count": 136,
   "id": "de8b0f82-25eb-4173-8e3d-f90f1faffd0c",
   "metadata": {},
   "outputs": [
    {
     "data": {
      "text/plain": [
       "[0,\n",
       " 1,\n",
       " 2,\n",
       " 3,\n",
       " 4,\n",
       " 5,\n",
       " 6,\n",
       " 7,\n",
       " 8,\n",
       " 9,\n",
       " 10,\n",
       " 11,\n",
       " 12,\n",
       " 13,\n",
       " 14,\n",
       " 15,\n",
       " 16,\n",
       " 17,\n",
       " 18,\n",
       " 19,\n",
       " 20,\n",
       " 21,\n",
       " 22,\n",
       " 23,\n",
       " 24,\n",
       " 25,\n",
       " 26,\n",
       " 27,\n",
       " 28,\n",
       " 29]"
      ]
     },
     "execution_count": 136,
     "metadata": {},
     "output_type": "execute_result"
    }
   ],
   "source": [
    "f =[i for i in range(30)]\n",
    "f"
   ]
  },
  {
   "cell_type": "code",
   "execution_count": 138,
   "id": "13d9e28f-61aa-4598-9679-e4b6c026ee5c",
   "metadata": {},
   "outputs": [
    {
     "data": {
      "text/plain": [
       "[0, 1, 2, 3, 4, 5, 6, 7, 8, 9, 10, 11, 12, 13, 14, 15, 16, 17, 18, 19, 20]"
      ]
     },
     "execution_count": 138,
     "metadata": {},
     "output_type": "execute_result"
    }
   ],
   "source": [
    "d = []\n",
    "for i in f:\n",
    "    if i <= 20:\n",
    "        d.append(i)\n",
    "d"
   ]
  },
  {
   "cell_type": "code",
   "execution_count": 140,
   "id": "df7e1d9c-d5a7-45ad-a5bb-7e0d9a700439",
   "metadata": {},
   "outputs": [
    {
     "name": "stdout",
     "output_type": "stream",
     "text": [
      "0\n",
      "1\n",
      "2\n",
      "3\n",
      "4\n",
      "5\n",
      "6\n",
      "7\n",
      "8\n",
      "9\n",
      "10\n",
      "11\n",
      "12\n",
      "13\n",
      "14\n",
      "15\n",
      "16\n",
      "17\n",
      "18\n",
      "19\n",
      "21\n",
      "22\n",
      "23\n",
      "24\n",
      "25\n",
      "26\n",
      "27\n",
      "28\n",
      "29\n"
     ]
    }
   ],
   "source": [
    "for i in f:\n",
    "    if i == 20:\n",
    "        continue\n",
    "    print(i)"
   ]
  },
  {
   "cell_type": "code",
   "execution_count": 150,
   "id": "2d26b7ed-ce56-41d0-a75a-e6a418625e32",
   "metadata": {},
   "outputs": [
    {
     "name": "stdout",
     "output_type": "stream",
     "text": [
      "2\n",
      "4\n",
      "6\n",
      "8\n",
      "10\n",
      "12\n",
      "14\n",
      "16\n",
      "18\n",
      "20\n",
      "22\n",
      "24\n",
      "26\n",
      "28\n",
      "30\n"
     ]
    }
   ],
   "source": [
    "for x in f:\n",
    "    if x % 2 ==0:\n",
    "        x += 2\n",
    "        print(x)"
   ]
  },
  {
   "cell_type": "code",
   "execution_count": 142,
   "id": "b1bd9eba-987f-4e57-a637-454a13fdfaea",
   "metadata": {},
   "outputs": [
    {
     "name": "stdout",
     "output_type": "stream",
     "text": [
      "apple\n",
      "banana\n",
      "cherry\n"
     ]
    }
   ],
   "source": [
    "fruits = [\"apple\",\"banana\", \"cherry\"]\n",
    "for fruits in fruits:\n",
    "    print(fruits)"
   ]
  },
  {
   "cell_type": "code",
   "execution_count": 144,
   "id": "056f6142-6e69-469f-bbe1-0bdbdf8912b2",
   "metadata": {},
   "outputs": [
    {
     "name": "stdout",
     "output_type": "stream",
     "text": [
      "apple\n",
      "Guava\n",
      "avocado\n",
      "banana\n"
     ]
    }
   ],
   "source": [
    "fruits = [\"apple\",\"Guava\",\"avocado\",\"banana\",\"cherry\",\"pears\",\"orange\",\"banana\"]\n",
    "for x in fruits:\n",
    "    print (x)\n",
    "    if x == \"banana\":\n",
    "        break"
   ]
  },
  {
   "cell_type": "code",
   "execution_count": 146,
   "id": "fc7e5011-5938-4152-a628-756dd6ce08c7",
   "metadata": {},
   "outputs": [
    {
     "name": "stdout",
     "output_type": "stream",
     "text": [
      "apple\n",
      "Guava\n",
      "avocado\n"
     ]
    }
   ],
   "source": [
    "fruits = [\"apple\",\"Guava\",\"avocado\",\"banana\",\"cherry\",\"pears\",\"orange\",\"banana\"]\n",
    "for x in fruits:\n",
    "    if x == \"banana\":\n",
    "        break\n",
    "    print(x)"
   ]
  },
  {
   "cell_type": "code",
   "execution_count": 148,
   "id": "58405c6f-6892-45f7-9c5f-dcb4561de592",
   "metadata": {},
   "outputs": [
    {
     "name": "stdout",
     "output_type": "stream",
     "text": [
      "apple\n",
      "Guava\n",
      "avocado\n",
      "cherry\n",
      "pears\n",
      "orange\n"
     ]
    }
   ],
   "source": [
    "fruits = [\"apple\",\"Guava\",\"avocado\",\"banana\",\"cherry\",\"pears\",\"orange\",\"banana\"]\n",
    "for x in fruits:\n",
    "    if x == \"banana\":\n",
    "        continue\n",
    "    print(x)\n"
   ]
  },
  {
   "cell_type": "code",
   "execution_count": 152,
   "id": "7a2f7a47-e4da-4056-8fc5-05d03c9259b4",
   "metadata": {},
   "outputs": [
    {
     "name": "stdout",
     "output_type": "stream",
     "text": [
      "['apple', 'banana', 'mango']\n"
     ]
    }
   ],
   "source": [
    "fruits = [\"apple\",\"banana\",\"cherry\",\"kiwi\",\"mango\"]\n",
    "afruits = []\n",
    "for x in fruits:\n",
    "    if\"a\" in x:\n",
    "        afruits.append(x)\n",
    "\n",
    "print(afruits)\n",
    "    "
   ]
  },
  {
   "cell_type": "code",
   "execution_count": 154,
   "id": "6231aeb8-aacb-492e-9e3b-8e272b915ff8",
   "metadata": {},
   "outputs": [
    {
     "name": "stdout",
     "output_type": "stream",
     "text": [
      "Hello,Alice:\n",
      "Hello,Bob:\n",
      "Hello,Charlie:\n"
     ]
    }
   ],
   "source": [
    "names = [\"Alice\",\"Bob\",\"Charlie\"]\n",
    "for names in names:\n",
    "    print(f\"Hello,{names}:\")"
   ]
  },
  {
   "cell_type": "code",
   "execution_count": 156,
   "id": "b141e3c4-d1b4-41c1-81c2-473332f569de",
   "metadata": {},
   "outputs": [],
   "source": [
    "countries = [\"NIGERIA\",\"GHANA\",\"TOGO\",\"ALGERIA\",\"MOROCCO\",\"MALAWI\",\"BOTSWANNA\",\"SOUTH AFRICA\"]"
   ]
  },
  {
   "cell_type": "code",
   "execution_count": 158,
   "id": "dc110232-fbb9-4be0-94b5-80ebd8990473",
   "metadata": {},
   "outputs": [
    {
     "name": "stdout",
     "output_type": "stream",
     "text": [
      "NIGERIA\n",
      "GHANA\n",
      "ALGERIA\n",
      "MALAWI\n",
      "BOTSWANNA\n",
      "SOUTH AFRICA\n"
     ]
    }
   ],
   "source": [
    "for x in countries:\n",
    "    if \"A\"in x:\n",
    "        print(x)"
   ]
  },
  {
   "cell_type": "code",
   "execution_count": 160,
   "id": "8509e3ee-2512-4dd2-a9d8-845a49a43f23",
   "metadata": {},
   "outputs": [
    {
     "name": "stdout",
     "output_type": "stream",
     "text": [
      "['NIGERIA', 'GHANA', 'ALGERIA', 'MALAWI', 'BOTSWANNA', 'SOUTH AFRICA']\n"
     ]
    }
   ],
   "source": [
    "countries2 =[]\n",
    "for x in countries:\n",
    "    if \"A\" in x:\n",
    "        countries2.append(x)\n",
    "\n",
    "print(countries2)"
   ]
  },
  {
   "cell_type": "code",
   "execution_count": 162,
   "id": "c0fb0fa5-ab20-4cba-bffe-e7659fa39abb",
   "metadata": {},
   "outputs": [
    {
     "name": "stdout",
     "output_type": "stream",
     "text": [
      "TOGO\n",
      "MOROCCO\n",
      "BOTSWANNA\n",
      "SOUTH AFRICA\n"
     ]
    }
   ],
   "source": [
    "for x in countries:\n",
    "    if \"O\" in x:\n",
    "        print(x)"
   ]
  },
  {
   "cell_type": "code",
   "execution_count": 166,
   "id": "04a3825b-b5e2-4478-acd9-dd42d1222bf0",
   "metadata": {},
   "outputs": [
    {
     "name": "stdout",
     "output_type": "stream",
     "text": [
      "['TOGO', 'MOROCCO', 'BOTSWANNA', 'SOUTH AFRICA']\n"
     ]
    }
   ],
   "source": [
    "countries3 =[]\n",
    "for x in countries:\n",
    "    if \"O\" in x:\n",
    "        countries3.append(x)\n",
    "\n",
    "print(countries3)"
   ]
  },
  {
   "cell_type": "code",
   "execution_count": 168,
   "id": "f297f8e8-df80-4d32-924e-1c1e7e445604",
   "metadata": {},
   "outputs": [
    {
     "name": "stdout",
     "output_type": "stream",
     "text": [
      "['TOGO', 'MOROCCO', 'BOTSWANNA', 'SOUTH AFRICA']\n"
     ]
    }
   ],
   "source": [
    "w =[ y for y in countries if \"O\" in y]\n",
    "print(w)"
   ]
  },
  {
   "cell_type": "code",
   "execution_count": 170,
   "id": "4cd4e384-d378-4f06-8329-a6c39c119297",
   "metadata": {},
   "outputs": [
    {
     "name": "stdout",
     "output_type": "stream",
     "text": [
      "[85, 90, 78, 92, 88, 72, 80]\n"
     ]
    }
   ],
   "source": [
    "# list of student grade\n",
    "grades = [85,90,78,92,88,65,55,72,67,80]\n",
    "\n",
    "#filter grade to include only those 70 and above\n",
    "A70 = [grade for grade in grades if grade >= 70]\n",
    "print(A70)"
   ]
  },
  {
   "cell_type": "code",
   "execution_count": 174,
   "id": "ce12f04d-d853-4d40-ac0c-554bac761fcf",
   "metadata": {},
   "outputs": [
    {
     "name": "stdout",
     "output_type": "stream",
     "text": [
      "The average grade for scores 70 and above is 83.57\n"
     ]
    }
   ],
   "source": [
    "# calculate the average grade of the filtered list\n",
    "if A70: # check if the filtered list is not empty\n",
    "    total = sum(A70)\n",
    "    average_grade = total / len(A70)\n",
    "    print(f\"The average grade for scores 70 and above is {average_grade:.2f}\")\n",
    "else:\n",
    "    print(\"No grades are 70 or above.\")\n"
   ]
  },
  {
   "cell_type": "code",
   "execution_count": 180,
   "id": "6ea6db4f-14bc-4cf4-9d77-1a4aa5da4f2c",
   "metadata": {},
   "outputs": [
    {
     "name": "stdout",
     "output_type": "stream",
     "text": [
      "Updated salaries:\n",
      "Alice: $77000.00\n",
      "Bob: $71500.00\n",
      "Charlie: $66000.00\n"
     ]
    }
   ],
   "source": [
    "# Dictionaries of employee and their salaries\n",
    "employees = {\n",
    "    \"Alice\": 70000,\n",
    "    \"Bob\": 65000,\n",
    "    \"Charlie\": 60000\n",
    "}\n",
    "\n",
    "# Apply a 10% raise\n",
    "for name, salary in employees.items():\n",
    "    new_salary = salary * 1.10\n",
    "    employees[name] = new_salary\n",
    "\n",
    "# Print updated salaries\n",
    "print(\"Updated salaries:\")\n",
    "for name, salary in employees.items():\n",
    "    print(f\"{name}: ${salary:.2f}\")\n"
   ]
  },
  {
   "cell_type": "code",
   "execution_count": 182,
   "id": "6972a334-2195-4360-911c-0eac3a920719",
   "metadata": {},
   "outputs": [
    {
     "name": "stdout",
     "output_type": "stream",
     "text": [
      "Total amount of all invoices: $75.00\n"
     ]
    }
   ],
   "source": [
    "# list of invoices, each with item and amount\n",
    "invoices = [\n",
    "    {\"items\": \"Laptop\", \"amount\":1200},\n",
    "    {\"items\": \"Phone\", \"amount\": 2500},\n",
    "    {\"items\": \"Keyboard\", \"amount\": 75}    \n",
    "]\n",
    "\n",
    "#Calculate the total amount\n",
    "total_amount =0\n",
    "for invoice in invoices:\n",
    "    total_amount = invoice[\"amount\"]\n",
    "\n",
    "print(f\"Total amount of all invoices: ${total_amount:.2f}\" )"
   ]
  },
  {
   "cell_type": "code",
   "execution_count": 184,
   "id": "0b768058-bf00-4559-ba14-677f0f69a86d",
   "metadata": {},
   "outputs": [
    {
     "name": "stdout",
     "output_type": "stream",
     "text": [
      "[0.0, 576.0, 1152.0, 1728.0]\n"
     ]
    }
   ],
   "source": [
    "#Convert a list of temperature from celcius to fahrenheit\n",
    "celsius = [0,10,20,30]\n",
    "fahrenheit = [(t*9/5) *32 for t in celsius]\n",
    "print(fahrenheit)"
   ]
  },
  {
   "cell_type": "code",
   "execution_count": 186,
   "id": "bca6145d-43f2-4b27-a36b-2004fc42db59",
   "metadata": {},
   "outputs": [
    {
     "name": "stdout",
     "output_type": "stream",
     "text": [
      "[0, 1, 0, 1, 0, 1, 0, 1, 0, 1]\n"
     ]
    }
   ],
   "source": [
    "# To create a list in python contain a sequence of 0s and 1s using list comprehensions.\n",
    "binary = [0 if i% 2 == 0 else 1 for i in range(10)]\n",
    "print(binary)"
   ]
  },
  {
   "cell_type": "code",
   "execution_count": 194,
   "id": "5dc5e7d1-2474-4b06-9b32-7f10a241e9ed",
   "metadata": {},
   "outputs": [
    {
     "name": "stdout",
     "output_type": "stream",
     "text": [
      "[5, 10, 5, 10, 5, 10, 5, 10, 5, 10, 5, 10, 5, 10, 5, 10, 5, 10, 5, 10]\n"
     ]
    }
   ],
   "source": [
    "# create the list using list comprehension\n",
    "# define the length of the list \n",
    "length = 20  #change this value to adjust the length of the list\n",
    "\n",
    "b = [5 if i % 2 == 0 else 10 for i in range (length)]\n",
    "print(b)"
   ]
  },
  {
   "cell_type": "code",
   "execution_count": 196,
   "id": "6241d0e9-a9ba-4ec6-b9cb-734c4d6c62bf",
   "metadata": {},
   "outputs": [
    {
     "name": "stdout",
     "output_type": "stream",
     "text": [
      "[0, 2, 4, 6, 8, 10, 12, 14, 16, 18, 20, 22, 24]\n"
     ]
    }
   ],
   "source": [
    "# create list of even number from 0 to 25\n",
    "evens = [x for x in range (25) if x % 2 == 0]\n",
    "print(evens)"
   ]
  },
  {
   "cell_type": "code",
   "execution_count": 198,
   "id": "d27e4ddd-1de1-41f4-9549-3044f0b7e499",
   "metadata": {},
   "outputs": [
    {
     "name": "stdout",
     "output_type": "stream",
     "text": [
      "[0, 4, 16, 36, 64, 100, 144, 196, 256, 324, 400, 484, 576]\n"
     ]
    }
   ],
   "source": [
    "evens_sqd = [x**2 for x in range (25) if x % 2 == 0]\n",
    "print(evens_sqd)"
   ]
  },
  {
   "cell_type": "code",
   "execution_count": 200,
   "id": "64b6c74d-3910-4978-9b20-8d00a191381c",
   "metadata": {},
   "outputs": [
    {
     "data": {
      "text/plain": [
       "[0, 4, 16, 36, 64, 100, 144, 196, 256, 324, 400, 484, 576]"
      ]
     },
     "execution_count": 200,
     "metadata": {},
     "output_type": "execute_result"
    }
   ],
   "source": [
    "#creating list from an existing list\n",
    "[e**2 for e in evens]"
   ]
  },
  {
   "cell_type": "code",
   "execution_count": 202,
   "id": "1a8f0c10-f181-498f-bffb-af554255bb18",
   "metadata": {},
   "outputs": [],
   "source": [
    "# set comprehension\n",
    "# create a set of unique characters from a list\n",
    "x = [\"hi\", 1, 2, 3, 3, 4, \"hi\", 4, 8, 8, 9]\n"
   ]
  },
  {
   "cell_type": "code",
   "execution_count": 206,
   "id": "fbbe8553-a979-4dcd-bf6c-c3a04928bb4b",
   "metadata": {},
   "outputs": [
    {
     "name": "stdout",
     "output_type": "stream",
     "text": [
      "{1, 2, 3, 4, 8, 9, 'hi'}\n"
     ]
    }
   ],
   "source": [
    "y = {i for i in x}\n",
    "print(y)"
   ]
  },
  {
   "cell_type": "markdown",
   "id": "b5c3376f-d58f-43a4-9452-bbe837578580",
   "metadata": {},
   "source": [
    "#### While loop"
   ]
  },
  {
   "cell_type": "markdown",
   "id": "33baf3d1-e138-4d89-8580-888730aeeccf",
   "metadata": {},
   "source": [
    "- The while loop repeatedly executes a block of code as long as a condition is True i.e repeates an action as long as a condition remains true.\n",
    " \n",
    "- it's like setting a task that repeats until something specific happens "
   ]
  },
  {
   "cell_type": "code",
   "execution_count": 211,
   "id": "bbb38a77-c54f-47d4-90e4-1470e7e27083",
   "metadata": {},
   "outputs": [
    {
     "name": "stdout",
     "output_type": "stream",
     "text": [
      "1\n",
      "2\n",
      "3\n",
      "4\n",
      "5\n"
     ]
    }
   ],
   "source": [
    "# Print i as long as i is less than 6\n",
    "i= 1\n",
    "while i < 6 :\n",
    "    print(i)\n",
    "    i += 1"
   ]
  },
  {
   "cell_type": "code",
   "execution_count": 215,
   "id": "ff1d9bc9-0c09-442e-a005-d36034b1ce30",
   "metadata": {},
   "outputs": [
    {
     "name": "stdout",
     "output_type": "stream",
     "text": [
      "Hello World\n",
      "Hello World\n",
      "Hello World\n",
      "Hello World\n",
      "Hello World\n"
     ]
    }
   ],
   "source": [
    "i =1 \n",
    "while i <6:\n",
    "    print(\"Hello World\")\n",
    "    i += 1"
   ]
  },
  {
   "cell_type": "code",
   "execution_count": 213,
   "id": "a0bd2681-84f1-459b-ac88-060a2d3a1dd8",
   "metadata": {},
   "outputs": [
    {
     "name": "stdout",
     "output_type": "stream",
     "text": [
      "1\n",
      "2\n",
      "3\n"
     ]
    }
   ],
   "source": [
    "i = 1\n",
    "while i < 6:\n",
    "    print(i)\n",
    "    if i == 3:\n",
    "        break\n",
    "    i += 1"
   ]
  },
  {
   "cell_type": "code",
   "execution_count": 1,
   "id": "4301dbac-8084-4779-9d87-5c9a797d70c2",
   "metadata": {},
   "outputs": [
    {
     "name": "stdout",
     "output_type": "stream",
     "text": [
      "0\n",
      "1\n",
      "2\n"
     ]
    }
   ],
   "source": [
    "i = 0\n",
    "while True:\n",
    "    print(i)\n",
    "    i += 1\n",
    "    if i == 3:\n",
    "        break"
   ]
  },
  {
   "cell_type": "code",
   "execution_count": 3,
   "id": "63c0715f-cbc9-4c12-9eeb-60d2eea0b7f1",
   "metadata": {},
   "outputs": [
    {
     "name": "stdout",
     "output_type": "stream",
     "text": [
      "2\n",
      "3\n",
      "4\n",
      "5\n",
      "6\n"
     ]
    }
   ],
   "source": [
    "i = 0 \n",
    "while i < 6:\n",
    "    i += 1\n",
    "    if i ==1:\n",
    "        continue\n",
    "    print(i)"
   ]
  },
  {
   "cell_type": "code",
   "execution_count": 2,
   "id": "0610dc32-dc12-48b2-9f97-5c80b0b12a65",
   "metadata": {},
   "outputs": [
    {
     "name": "stdout",
     "output_type": "stream",
     "text": [
      "2\n",
      "4\n",
      "6\n",
      "8\n",
      "10\n",
      "12\n",
      "14\n",
      "16\n",
      "18\n",
      "20\n"
     ]
    }
   ],
   "source": [
    "i = 2 \n",
    "while i < 21:\n",
    "    if i % 2 == 0:\n",
    "        print(i)\n",
    "    i = i + 1"
   ]
  },
  {
   "cell_type": "code",
   "execution_count": 4,
   "id": "05b62fc3-4415-4c5f-8c70-756900c31325",
   "metadata": {},
   "outputs": [
    {
     "name": "stdout",
     "output_type": "stream",
     "text": [
      "[2, 4, 6, 8, 10, 12, 14, 16, 18, 20]\n"
     ]
    }
   ],
   "source": [
    "e = []\n",
    "i = 2\n",
    "while i < 21:\n",
    "    if i % 2 ==0:\n",
    "        e.append(i)\n",
    "    i = i + 1\n",
    "\n",
    "print(e)"
   ]
  },
  {
   "cell_type": "code",
   "execution_count": 6,
   "id": "b02e2465-8d91-4148-a075-7f1ca11aa72c",
   "metadata": {},
   "outputs": [
    {
     "name": "stdout",
     "output_type": "stream",
     "text": [
      "1\n",
      "2\n",
      "3\n",
      "4\n",
      "5\n",
      "i is no longer less than 6\n"
     ]
    }
   ],
   "source": [
    "i = 1\n",
    "while i < 6:\n",
    "    print(i)\n",
    "    i += 1\n",
    "else:\n",
    "    print(\"i is no longer less than 6\")"
   ]
  },
  {
   "cell_type": "code",
   "execution_count": 8,
   "id": "6ddba858-cb0b-4ea7-8c2e-417e5aa0b29f",
   "metadata": {},
   "outputs": [
    {
     "name": "stdout",
     "output_type": "stream",
     "text": [
      "Almost there: 10\n",
      "Almost there: 9\n",
      "Almost there: 8\n",
      "Almost there: 7\n",
      "Almost there: 6\n",
      "Almost there: 5\n",
      "Almost there: 4\n",
      "Almost there: 3\n",
      "Almost there: 2\n",
      "Almost there: 1\n",
      "Almost there: 0\n",
      "Time's up!\n"
     ]
    }
   ],
   "source": [
    "countdown = 10\n",
    "\n",
    "while countdown >= 0:\n",
    "    print(f\"Almost there: {countdown}\")\n",
    "    countdown -= 1\n",
    "\n",
    "print(\"Time's up!\")"
   ]
  },
  {
   "cell_type": "code",
   "execution_count": 12,
   "id": "1d2fa403-efbf-4c5a-9bf3-706de3583530",
   "metadata": {},
   "outputs": [
    {
     "name": "stdin",
     "output_type": "stream",
     "text": [
      "Enter the password:  tolu025\n"
     ]
    },
    {
     "name": "stdout",
     "output_type": "stream",
     "text": [
      "Wrong password. Try again.\n"
     ]
    },
    {
     "name": "stdin",
     "output_type": "stream",
     "text": [
      "Enter the password:  segun456\n"
     ]
    },
    {
     "name": "stdout",
     "output_type": "stream",
     "text": [
      "Wrong password. Try again.\n"
     ]
    },
    {
     "name": "stdin",
     "output_type": "stream",
     "text": [
      "Enter the password:  ife245\n"
     ]
    },
    {
     "name": "stdout",
     "output_type": "stream",
     "text": [
      "Wrong password. Try again.\n"
     ]
    },
    {
     "name": "stdin",
     "output_type": "stream",
     "text": [
      "Enter the password:  code045\n"
     ]
    },
    {
     "name": "stdout",
     "output_type": "stream",
     "text": [
      "Access granted\n"
     ]
    }
   ],
   "source": [
    "correct_password = \"code045\"\n",
    "password = \"\"\n",
    "while password != correct_password:\n",
    "    password = input(\"Enter the password: \")\n",
    "    if password == correct_password:\n",
    "        print(\"Access granted\")\n",
    "    else:\n",
    "        print(\"Wrong password. Try again.\")"
   ]
  },
  {
   "cell_type": "code",
   "execution_count": 14,
   "id": "4f0e1974-5b14-4cc5-85e7-0d0b2c4a409d",
   "metadata": {},
   "outputs": [
    {
     "name": "stdin",
     "output_type": "stream",
     "text": [
      "Enter your password:  code435\n"
     ]
    },
    {
     "name": "stdout",
     "output_type": "stream",
     "text": [
      "Wrong password! 2 attempts left.\n"
     ]
    },
    {
     "name": "stdin",
     "output_type": "stream",
     "text": [
      "Enter your password:  dell456\n"
     ]
    },
    {
     "name": "stdout",
     "output_type": "stream",
     "text": [
      "Wrong password! 1 attempts left.\n"
     ]
    },
    {
     "name": "stdin",
     "output_type": "stream",
     "text": [
      "Enter your password:  c35k\n"
     ]
    },
    {
     "name": "stdout",
     "output_type": "stream",
     "text": [
      "Login Successful!\n"
     ]
    }
   ],
   "source": [
    "correct_password = \"c35k\"\n",
    "attempts = 3\n",
    "\n",
    "while attempts > 0:\n",
    "    password = input (\"Enter your password: \")\n",
    "    if password == correct_password:\n",
    "        print(\"Login Successful!\")\n",
    "        break\n",
    "    else:\n",
    "        attempts -= 1\n",
    "        print(f\"Wrong password! {attempts} attempts left.\")\n",
    "\n",
    "if attempts == 0:\n",
    "    print (\"Account locked the to too many failed attempts.\")"
   ]
  },
  {
   "cell_type": "code",
   "execution_count": 16,
   "id": "69062407-976a-4fa7-91ef-d347fc966801",
   "metadata": {},
   "outputs": [
    {
     "name": "stdout",
     "output_type": "stream",
     "text": [
      "Your current balance is: $500\n"
     ]
    },
    {
     "name": "stdin",
     "output_type": "stream",
     "text": [
      "Enter amount to withdraw {or o to stop}:  400\n"
     ]
    },
    {
     "name": "stdout",
     "output_type": "stream",
     "text": [
      "You have successfully withdrawn $400.0. Remaining balance: $100.0\n",
      "Your current balance is: $100.0\n"
     ]
    },
    {
     "name": "stdin",
     "output_type": "stream",
     "text": [
      "Enter amount to withdraw {or o to stop}:  300\n"
     ]
    },
    {
     "name": "stdout",
     "output_type": "stream",
     "text": [
      "Insufficent funds, Try a smaller amount.\n",
      "Your current balance is: $100.0\n"
     ]
    },
    {
     "name": "stdin",
     "output_type": "stream",
     "text": [
      "Enter amount to withdraw {or o to stop}:  50\n"
     ]
    },
    {
     "name": "stdout",
     "output_type": "stream",
     "text": [
      "You have successfully withdrawn $50.0. Remaining balance: $50.0\n",
      "Your current balance is: $50.0\n"
     ]
    },
    {
     "name": "stdin",
     "output_type": "stream",
     "text": [
      "Enter amount to withdraw {or o to stop}:  50\n"
     ]
    },
    {
     "name": "stdout",
     "output_type": "stream",
     "text": [
      "You have successfully withdrawn $50.0. Remaining balance: $0.0\n",
      "Your account balance is now zero. No further withdrawals allowed.\n"
     ]
    }
   ],
   "source": [
    "balance = 500\n",
    "withdraw = True\n",
    "\n",
    "while balance >0 and withdraw:\n",
    "    print (f\"Your current balance is: ${balance}\")\n",
    "    amount= float(input(\"Enter amount to withdraw {or o to stop}: \"))\n",
    "    if amount == 0:\n",
    "        print(\"Existing withdraw process.\")\n",
    "        withdraw = False\n",
    "    elif amount > balance:\n",
    "        print(\"Insufficent funds, Try a smaller amount.\")\n",
    "    else:\n",
    "        balance -= amount\n",
    "        print(f\"You have successfully withdrawn ${amount}. Remaining balance: ${balance}\")\n",
    "\n",
    "if balance == 0:\n",
    "    print(\"Your account balance is now zero. No further withdrawals allowed.\")"
   ]
  },
  {
   "cell_type": "code",
   "execution_count": 18,
   "id": "cff8415a-68f6-497a-abf5-c717e28bbe19",
   "metadata": {},
   "outputs": [
    {
     "name": "stdout",
     "output_type": "stream",
     "text": [
      "Processing item: apples\n",
      "Processing item: bananas\n",
      "Processing item: oranges\n",
      "Processing item: milk\n",
      "Processing item: bread\n",
      "All items have been processed!\n"
     ]
    }
   ],
   "source": [
    "shopping_list =[\"apples\",\"bananas\",\"oranges\",\"milk\",\"bread\"]\n",
    "\n",
    "while shopping_list:\n",
    "    item = shopping_list.pop(0)\n",
    "    print(f\"Processing item: {item}\")\n",
    "\n",
    "print(\"All items have been processed!\")"
   ]
  },
  {
   "cell_type": "code",
   "execution_count": null,
   "id": "e58fc3d1-cba0-46e2-b33d-d2762511200f",
   "metadata": {},
   "outputs": [],
   "source": []
  }
 ],
 "metadata": {
  "kernelspec": {
   "display_name": "Python 3 (ipykernel)",
   "language": "python",
   "name": "python3"
  },
  "language_info": {
   "codemirror_mode": {
    "name": "ipython",
    "version": 3
   },
   "file_extension": ".py",
   "mimetype": "text/x-python",
   "name": "python",
   "nbconvert_exporter": "python",
   "pygments_lexer": "ipython3",
   "version": "3.12.7"
  }
 },
 "nbformat": 4,
 "nbformat_minor": 5
}
