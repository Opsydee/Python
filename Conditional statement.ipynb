{
 "cells": [
  {
   "cell_type": "markdown",
   "id": "aed7984d-2616-497d-862e-3daceb00fdfa",
   "metadata": {},
   "source": [
    "### Conditional statement \n",
    "#### if condition"
   ]
  },
  {
   "cell_type": "code",
   "execution_count": 34,
   "id": "42456c77-278c-4710-97c6-825186c7caaf",
   "metadata": {},
   "outputs": [
    {
     "name": "stdout",
     "output_type": "stream",
     "text": [
      "you're an adult\n"
     ]
    }
   ],
   "source": [
    "age = 21\n",
    "if age >=16:\n",
    "    print (\"you're an adult\")"
   ]
  },
  {
   "cell_type": "code",
   "execution_count": 35,
   "id": "7981cc7e-dab1-4565-a897-3ff24f084017",
   "metadata": {},
   "outputs": [
    {
     "name": "stdout",
     "output_type": "stream",
     "text": [
      "you're a minor\n"
     ]
    }
   ],
   "source": [
    "#else\n",
    "age = 13\n",
    "if age >= 18:\n",
    "    print(\"you're an adult\")\n",
    "else:\n",
    "    print(\"you're a minor\")"
   ]
  },
  {
   "cell_type": "code",
   "execution_count": 103,
   "id": "f46da017-c1b4-4feb-8603-b07417c7c4dc",
   "metadata": {},
   "outputs": [
    {
     "name": "stdout",
     "output_type": "stream",
     "text": [
      "it's warm\n"
     ]
    }
   ],
   "source": [
    "#elif\n",
    "temp = 90\n",
    "\n",
    "if temp > 100:\n",
    "    print(\"it's very hot out there\")\n",
    "elif temp >80:\n",
    "    print(\"it's warm\")\n",
    "else:\n",
    "    print(\"it's is cool out there\")\n",
    "    \n"
   ]
  },
  {
   "cell_type": "code",
   "execution_count": 88,
   "id": "26d99960-a13c-4d24-8db5-cc0a020a384f",
   "metadata": {},
   "outputs": [
    {
     "name": "stdout",
     "output_type": "stream",
     "text": [
      "You can enter the party\n"
     ]
    }
   ],
   "source": [
    "age = 20\n",
    "has_id = True\n",
    "\n",
    "if age >= 18:\n",
    "    if has_id:\n",
    "        print (\"You can enter the party\")\n",
    "    else:\n",
    "        print (\"You need an ID to enter\")\n",
    "else:\n",
    "    print (\"You are too young to enter\")"
   ]
  },
  {
   "cell_type": "code",
   "execution_count": 179,
   "id": "65807550-6bbe-49d6-ad40-9652d9665ae6",
   "metadata": {},
   "outputs": [
    {
     "name": "stdout",
     "output_type": "stream",
     "text": [
      "Very good\n"
     ]
    }
   ],
   "source": [
    "score = 85\n",
    "\n",
    "if score >= 90:\n",
    "    print(\"Distinction\")\n",
    "elif score >= 80:\n",
    "    print(\"Very good\")\n",
    "elif score >= 70:\n",
    "    print (\"Good\")\n",
    "elif score >=60:\n",
    "    print (\"Credit\")\n",
    "elif score >=50:\n",
    "    print (\"Pass\")\n",
    "else:\n",
    "       print (\"Failed\")"
   ]
  },
  {
   "cell_type": "code",
   "execution_count": 5,
   "id": "02cf0ea4-5226-4a32-9a3c-fb43e5c52b9d",
   "metadata": {},
   "outputs": [
    {
     "name": "stdout",
     "output_type": "stream",
     "text": [
      "it's the weekend\n"
     ]
    }
   ],
   "source": [
    "day = \"Sat\"\n",
    "\n",
    "if day == \"Sat\" or day == \"Sun\":\n",
    "    print(\"it's the weekend\")\n",
    "elif day == \"Fri\":\n",
    "    print (\"the weekend is almost here\")\n",
    "else:\n",
    "    print (\"it's a weekday\")"
   ]
  },
  {
   "cell_type": "code",
   "execution_count": 7,
   "id": "bafdab77-9733-4193-a42e-c22af7de758f",
   "metadata": {},
   "outputs": [
    {
     "name": "stdin",
     "output_type": "stream",
     "text": [
      "what is your birth year:  1986\n"
     ]
    },
    {
     "name": "stdout",
     "output_type": "stream",
     "text": [
      "Your age is: 38\n"
     ]
    }
   ],
   "source": [
    "Birth_year = input(\"what is your birth year: \")\n",
    "\n",
    "if Birth_year.isdigit():  # check if the input is a digit\n",
    "    age = 2024 -int(Birth_year) # calculate the age\n",
    "    print(\"Your age is: \" + str(age)) #convert age to string for concatenation \n",
    "else:\n",
    "    print(\"Please enter a valid number.\") #Handle non digit input \n"
   ]
  },
  {
   "cell_type": "code",
   "execution_count": 14,
   "id": "cb4dbf5a-cdd7-437c-bed0-b207d67f823d",
   "metadata": {},
   "outputs": [
    {
     "name": "stdin",
     "output_type": "stream",
     "text": [
      "How old are you?  35\n",
      "How many children do you have?  6\n",
      "How old is your last child?  15\n"
     ]
    },
    {
     "name": "stdout",
     "output_type": "stream",
     "text": [
      "Go ahead with your studies\n"
     ]
    }
   ],
   "source": [
    "age = int(input(\"How old are you? \"))\n",
    "\n",
    "if age <= 10:\n",
    "    print(\"You are in primary school\")\n",
    "elif age > 10 and age <= 16:  \n",
    "    print(\"Secondary School Student\")\n",
    "elif age > 16 and age <= 25:  \n",
    "    print(\"You're an undergraduate\")\n",
    "else:\n",
    "    children = int(input(\"How many children do you have? \"))  \n",
    "    if children > 3:\n",
    "        d = int(input(\"How old is your last child? \"))\n",
    "        if d > 5:\n",
    "            print(\"Go ahead with your studies\")\n",
    "        else:\n",
    "            print(\"You need to take care of your children first\")\n",
    "            #print(\"Take a break\")\n",
    "    else:\n",
    "        print(\"You can go for your postgraduate\")\n",
    "         #print(\"You're a postgraduate\")\n"
   ]
  }
 ],
 "metadata": {
  "kernelspec": {
   "display_name": "Python 3 (ipykernel)",
   "language": "python",
   "name": "python3"
  },
  "language_info": {
   "codemirror_mode": {
    "name": "ipython",
    "version": 3
   },
   "file_extension": ".py",
   "mimetype": "text/x-python",
   "name": "python",
   "nbconvert_exporter": "python",
   "pygments_lexer": "ipython3",
   "version": "3.12.7"
  }
 },
 "nbformat": 4,
 "nbformat_minor": 5
}
