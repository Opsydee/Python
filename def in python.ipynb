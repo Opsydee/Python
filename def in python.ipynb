{
 "cells": [
  {
   "cell_type": "markdown",
   "id": "a55c3aa9-6a56-4abf-ba29-da3d2a805b85",
   "metadata": {},
   "source": [
    "#### def"
   ]
  },
  {
   "cell_type": "markdown",
   "id": "88fb5268-398d-4130-b009-f0ff1a681d4c",
   "metadata": {},
   "source": [
    "- def is a keyboard used to define a function\n",
    "- A function is a block of results code that perfroms a specific task.\n",
    "- Function allows you to group a set of statements together that can be executed whenever you call the function.\n",
    "- functions help in organzing code making it modular, readable and easier to manage "
   ]
  },
  {
   "cell_type": "code",
   "execution_count": 22,
   "id": "7d86e76d-5a76-42db-89c2-38ca901f0149",
   "metadata": {},
   "outputs": [],
   "source": [
    "def greet():\n",
    "    print(\"Hello, welcome to Python programming!\")"
   ]
  },
  {
   "cell_type": "code",
   "execution_count": 24,
   "id": "fa1eb1be-286c-4701-a8ad-81ee10c1820d",
   "metadata": {},
   "outputs": [
    {
     "name": "stdout",
     "output_type": "stream",
     "text": [
      "Hello, welcome to Python programming!\n"
     ]
    }
   ],
   "source": [
    "greet()"
   ]
  },
  {
   "cell_type": "code",
   "execution_count": 28,
   "id": "8782673a-aa12-42a1-8067-949e1df04ff3",
   "metadata": {},
   "outputs": [],
   "source": [
    "def greet_user(name):\n",
    "    print(f\"Hello,{name}! Welcome to python programming\")"
   ]
  },
  {
   "cell_type": "code",
   "execution_count": 30,
   "id": "7c2aaf85-7f1e-4150-bb6b-09f017d8b4a4",
   "metadata": {},
   "outputs": [
    {
     "name": "stdout",
     "output_type": "stream",
     "text": [
      "Hello,Dee! Welcome to python programming\n"
     ]
    }
   ],
   "source": [
    "greet_user(\"Dee\")"
   ]
  },
  {
   "cell_type": "code",
   "execution_count": 32,
   "id": "553bf7f9-71a1-4747-a6ea-5ded09e0057c",
   "metadata": {},
   "outputs": [],
   "source": [
    "def g(name, surname):\n",
    "    print(f\"Hello! {name} {surname}! welcome to our class.\")"
   ]
  },
  {
   "cell_type": "code",
   "execution_count": 34,
   "id": "0dd288fa-d7c7-4a3b-a99c-e20c5ef8f65e",
   "metadata": {},
   "outputs": [
    {
     "name": "stdout",
     "output_type": "stream",
     "text": [
      "Hello! Jane Dee! welcome to our class.\n"
     ]
    }
   ],
   "source": [
    "g(\"Jane\", \"Dee\")"
   ]
  },
  {
   "cell_type": "code",
   "execution_count": 36,
   "id": "e1ab17f3-381e-4804-ab76-d210800fd53e",
   "metadata": {},
   "outputs": [],
   "source": [
    "def add (a, b):\n",
    "    return a+b"
   ]
  },
  {
   "cell_type": "code",
   "execution_count": 38,
   "id": "35b2516a-0e49-4596-ab21-e389b69715b7",
   "metadata": {},
   "outputs": [
    {
     "data": {
      "text/plain": [
       "179463"
      ]
     },
     "execution_count": 38,
     "metadata": {},
     "output_type": "execute_result"
    }
   ],
   "source": [
    "add (100777, 78686)"
   ]
  },
  {
   "cell_type": "code",
   "execution_count": 40,
   "id": "cd0aa347-9d28-45d1-81ff-4d92236c90c9",
   "metadata": {},
   "outputs": [
    {
     "name": "stdout",
     "output_type": "stream",
     "text": [
      "105\n"
     ]
    }
   ],
   "source": [
    "r = add (55, 50)\n",
    "print(r)"
   ]
  },
  {
   "cell_type": "code",
   "execution_count": 42,
   "id": "0eb480e0-ca7e-4719-b2f8-71184be1192e",
   "metadata": {},
   "outputs": [
    {
     "data": {
      "text/plain": [
       "630"
      ]
     },
     "execution_count": 42,
     "metadata": {},
     "output_type": "execute_result"
    }
   ],
   "source": [
    "r*6"
   ]
  },
  {
   "cell_type": "code",
   "execution_count": 44,
   "id": "93147cff-b89b-46c6-9222-f277534057b5",
   "metadata": {},
   "outputs": [],
   "source": [
    "def m5(x):\n",
    "    return 5 * x"
   ]
  },
  {
   "cell_type": "code",
   "execution_count": 46,
   "id": "1ab91b40-9986-4753-8d2c-edfa68986cb0",
   "metadata": {},
   "outputs": [
    {
     "data": {
      "text/plain": [
       "225"
      ]
     },
     "execution_count": 46,
     "metadata": {},
     "output_type": "execute_result"
    }
   ],
   "source": [
    "m5(45)"
   ]
  },
  {
   "cell_type": "code",
   "execution_count": 48,
   "id": "6026b434-2171-4f27-a34d-e0b94d54f11b",
   "metadata": {},
   "outputs": [],
   "source": [
    "def square(x):\n",
    "    return x ** 2"
   ]
  },
  {
   "cell_type": "code",
   "execution_count": 50,
   "id": "fc22c2d2-c7c4-4c7a-945e-e2d1bbe6f00b",
   "metadata": {},
   "outputs": [
    {
     "data": {
      "text/plain": [
       "207025"
      ]
     },
     "execution_count": 50,
     "metadata": {},
     "output_type": "execute_result"
    }
   ],
   "source": [
    "square(455)"
   ]
  },
  {
   "cell_type": "code",
   "execution_count": 52,
   "id": "4913bd6b-346c-4f6b-8d04-9213a8206434",
   "metadata": {},
   "outputs": [],
   "source": [
    "def modulus(x):\n",
    "    return x % 9"
   ]
  },
  {
   "cell_type": "code",
   "execution_count": 54,
   "id": "8596ceb0-8958-4834-ba1d-0719f3248d12",
   "metadata": {},
   "outputs": [
    {
     "data": {
      "text/plain": [
       "0"
      ]
     },
     "execution_count": 54,
     "metadata": {},
     "output_type": "execute_result"
    }
   ],
   "source": [
    "modulus(45)"
   ]
  },
  {
   "cell_type": "code",
   "execution_count": 56,
   "id": "ee55ae73-501b-41ef-8cf0-6155c40f7c5e",
   "metadata": {},
   "outputs": [],
   "source": [
    "def ad():\n",
    "    x = 94559\n",
    "    y = 1045556\n",
    "    result = x + y\n",
    "    return result"
   ]
  },
  {
   "cell_type": "code",
   "execution_count": 58,
   "id": "95918c7b-9b11-4edf-abe1-61ff73cb38d3",
   "metadata": {},
   "outputs": [
    {
     "data": {
      "text/plain": [
       "1140115"
      ]
     },
     "execution_count": 58,
     "metadata": {},
     "output_type": "execute_result"
    }
   ],
   "source": [
    "ad()"
   ]
  },
  {
   "cell_type": "code",
   "execution_count": 69,
   "id": "bd859318-1108-484b-b334-a3e5baf1f07d",
   "metadata": {},
   "outputs": [],
   "source": [
    "def multiply (a, b=2):\n",
    "    return a * b"
   ]
  },
  {
   "cell_type": "code",
   "execution_count": 71,
   "id": "544fe3a5-8130-44a8-b2b1-4dd01d196e1b",
   "metadata": {},
   "outputs": [
    {
     "data": {
      "text/plain": [
       "15"
      ]
     },
     "execution_count": 71,
     "metadata": {},
     "output_type": "execute_result"
    }
   ],
   "source": [
    "multiply(5, 3)"
   ]
  },
  {
   "cell_type": "code",
   "execution_count": 73,
   "id": "1a4ac5c3-98aa-41ed-a5fe-1e70e763ec9c",
   "metadata": {},
   "outputs": [
    {
     "name": "stdout",
     "output_type": "stream",
     "text": [
      "2.0\n"
     ]
    }
   ],
   "source": [
    "def divide (a,b):\n",
    "    if b == 0:\n",
    "        return \"cannot divide by zero!\"\n",
    "    return a/b\n",
    "\n",
    "result = divide (10, 5)\n",
    "print (f\"{result:.1f}\")"
   ]
  }
 ],
 "metadata": {
  "kernelspec": {
   "display_name": "Python 3 (ipykernel)",
   "language": "python",
   "name": "python3"
  },
  "language_info": {
   "codemirror_mode": {
    "name": "ipython",
    "version": 3
   },
   "file_extension": ".py",
   "mimetype": "text/x-python",
   "name": "python",
   "nbconvert_exporter": "python",
   "pygments_lexer": "ipython3",
   "version": "3.12.7"
  }
 },
 "nbformat": 4,
 "nbformat_minor": 5
}
