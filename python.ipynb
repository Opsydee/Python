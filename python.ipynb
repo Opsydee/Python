{
 "cells": [
  {
   "cell_type": "code",
   "execution_count": 1,
   "id": "a6e8db3f-60b6-4c60-94f3-e6389817c1db",
   "metadata": {},
   "outputs": [
    {
     "name": "stdout",
     "output_type": "stream",
     "text": [
      "Hello world it is opeyemi learning python\n"
     ]
    }
   ],
   "source": [
    "print('Hello world it is opeyemi learning python')"
   ]
  },
  {
   "cell_type": "code",
   "execution_count": 4,
   "id": "9aa1ae97-a0a7-4211-acb5-4ab29083300c",
   "metadata": {},
   "outputs": [],
   "source": [
    "x= 5+6"
   ]
  },
  {
   "cell_type": "code",
   "execution_count": 5,
   "id": "47d11e48-2415-4af7-83a8-24a29700b056",
   "metadata": {},
   "outputs": [
    {
     "data": {
      "text/plain": [
       "11"
      ]
     },
     "execution_count": 5,
     "metadata": {},
     "output_type": "execute_result"
    }
   ],
   "source": [
    "x"
   ]
  },
  {
   "cell_type": "code",
   "execution_count": 6,
   "id": "9f39b878-32d9-4db5-bbf3-2a51aa740596",
   "metadata": {},
   "outputs": [],
   "source": [
    "p = 6*5+7"
   ]
  },
  {
   "cell_type": "code",
   "execution_count": 7,
   "id": "55126b36-94fe-44ef-b570-a35e405e2ded",
   "metadata": {},
   "outputs": [
    {
     "name": "stdout",
     "output_type": "stream",
     "text": [
      "37\n"
     ]
    }
   ],
   "source": [
    "print(p)"
   ]
  },
  {
   "cell_type": "raw",
   "id": "e07f8b8c-9fda-4dfb-9f03-58ff808df9b1",
   "metadata": {},
   "source": [
    "Comparison Operator "
   ]
  },
  {
   "cell_type": "markdown",
   "id": "5d977570-d3c4-4d76-a7d6-a6e9920b7c05",
   "metadata": {},
   "source": [
    "data_Science_class"
   ]
  },
  {
   "cell_type": "code",
   "execution_count": null,
   "id": "22fe50fe-9ece-4f85-be09-b31c3db14e2a",
   "metadata": {},
   "outputs": [],
   "source": []
  }
 ],
 "metadata": {
  "kernelspec": {
   "display_name": "Python 3 (ipykernel)",
   "language": "python",
   "name": "python3"
  },
  "language_info": {
   "codemirror_mode": {
    "name": "ipython",
    "version": 3
   },
   "file_extension": ".py",
   "mimetype": "text/x-python",
   "name": "python",
   "nbconvert_exporter": "python",
   "pygments_lexer": "ipython3",
   "version": "3.12.7"
  }
 },
 "nbformat": 4,
 "nbformat_minor": 5
}
